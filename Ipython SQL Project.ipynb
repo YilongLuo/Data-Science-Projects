{
    "nbformat_minor": 1, 
    "cells": [
        {
            "execution_count": 3, 
            "cell_type": "code", 
            "metadata": {}, 
            "outputs": [], 
            "source": "import ibm_db"
        }, 
        {
            "execution_count": 4, 
            "cell_type": "code", 
            "metadata": {}, 
            "outputs": [], 
            "source": "# The code was removed by Watson Studio for sharing."
        }, 
        {
            "execution_count": 5, 
            "cell_type": "code", 
            "metadata": {}, 
            "outputs": [
                {
                    "output_type": "stream", 
                    "name": "stdout", 
                    "text": "DRIVER={IBM DB2 ODBC DRIVER};DATABASE=BLUDB;HOSTNAME=dashdb-txn-sbox-yp-dal09-04.services.dal.bluemix.net;PORT=50000;PROTOCOL=TCPIP;UID=hpf03826;PWD=3s4753llb92^1slm;\n"
                }
            ], 
            "source": "#Create the dsn connection string\ndsn = (\n    \"DRIVER={0};\"\n    \"DATABASE={1};\"\n    \"HOSTNAME={2};\"\n    \"PORT={3};\"\n    \"PROTOCOL={4};\"\n    \"UID={5};\"\n    \"PWD={6};\").format(dsn_driver, dsn_database, dsn_hostname, dsn_port, dsn_protocol, dsn_uid, dsn_pwd)\n\n#print the connection string to check correct values are specified\nprint(dsn)"
        }, 
        {
            "execution_count": 6, 
            "cell_type": "code", 
            "metadata": {}, 
            "outputs": [
                {
                    "output_type": "stream", 
                    "name": "stdout", 
                    "text": "Connected!\n"
                }
            ], 
            "source": "try:\n    conn = ibm_db.connect(dsn, \"\", \"\")\n    print (\"Connected!\")\n\nexcept:\n    print (\"Unable to connect to database\")"
        }, 
        {
            "execution_count": 7, 
            "cell_type": "code", 
            "metadata": {}, 
            "outputs": [], 
            "source": "#Lets first drop the table INSTRUCTOR in case it exists from a previous attempt\ndropQuery = \"drop table INSTRUCTOR\"\n\n#Now execute the drop statment\ndropStmt = ibm_db.exec_immediate(conn, dropQuery)"
        }, 
        {
            "execution_count": 8, 
            "cell_type": "code", 
            "metadata": {}, 
            "outputs": [], 
            "source": "#Construct the Create Table DDL statement - replace the ... with rest of the statement\ncreateQuery = \"create table INSTRUCTOR(ID INTEGER PRIMARY KEY NOT NULL, FNAME VARCHAR(20), LNAME VARCHAR(20), CITY VARCHAR(20), CCODE CHAR(2))\"\n\n#Now fill in the name of the method and execute the statement\ncreateStmt = ibm_db.exec_immediate(conn,createQuery)"
        }, 
        {
            "execution_count": 9, 
            "cell_type": "code", 
            "metadata": {}, 
            "outputs": [], 
            "source": "#Construct the query - replace ... with the insert statement\n\ninsertQuery = \"insert into INSTRUCTOR values (1, 'Rav', 'Ahuja', 'TORONTO', 'CA')\"\n\n#execute the insert statement\ninsertStmt = ibm_db.exec_immediate(conn, insertQuery)"
        }, 
        {
            "execution_count": 10, 
            "cell_type": "code", 
            "metadata": {}, 
            "outputs": [], 
            "source": "#Construct the query - replace ... with the insert statement\n\ninsertQuery2 = \"insert into INSTRUCTOR values (2, 'Raul', 'Chong', 'Markham', 'CA'), (3, 'Hima', 'Vasudevan', 'Chicago', 'US')\"\n\n#execute the insert statement\ninsertStmt2 = ibm_db.exec_immediate(conn, insertQuery2)"
        }, 
        {
            "execution_count": 11, 
            "cell_type": "code", 
            "metadata": {}, 
            "outputs": [
                {
                    "execution_count": 11, 
                    "metadata": {}, 
                    "data": {
                        "text/plain": "{0: 1,\n 1: 'Rav',\n 2: 'Ahuja',\n 3: 'TORONTO',\n 'FNAME': 'Rav',\n 'CITY': 'TORONTO',\n 'LNAME': 'Ahuja',\n 'ID': 1,\n 4: 'CA',\n 'CCODE': 'CA'}"
                    }, 
                    "output_type": "execute_result"
                }
            ], 
            "source": "#Construct the query that retrieves all rows from the INSTRUCTOR table\nselectQuery = \"select * from INSTRUCTOR\"\n\n#Execute the statement\nselectStmt = ibm_db.exec_immediate(conn, selectQuery)\n\n#Fetch the Dictionary (for the first row only) - replace ... with your code\nibm_db.fetch_both(selectStmt)\n"
        }, 
        {
            "execution_count": 12, 
            "cell_type": "code", 
            "metadata": {}, 
            "outputs": [
                {
                    "output_type": "stream", 
                    "name": "stdout", 
                    "text": " ID: 2  FNAME: Raul\n ID: 3  FNAME: Hima\n"
                }
            ], 
            "source": "#Fetch the rest of the rows and print the ID and FNAME for those rows\nwhile ibm_db.fetch_row(selectStmt) != False:\n    print (\" ID:\",  ibm_db.result(selectStmt, 0), \" FNAME:\",  ibm_db.result(selectStmt, \"FNAME\"))"
        }, 
        {
            "execution_count": 13, 
            "cell_type": "code", 
            "metadata": {}, 
            "outputs": [], 
            "source": "\nupdateQuery = \"update INSTRUCTOR set CITY='MOOSETOWN' where FNAME='Rav'\"\nupdateStmt = ibm_db.exec_immediate(conn, updateQuery)"
        }, 
        {
            "execution_count": 14, 
            "cell_type": "code", 
            "metadata": {}, 
            "outputs": [], 
            "source": "import pandas\nimport ibm_db_dbi"
        }, 
        {
            "execution_count": 15, 
            "cell_type": "code", 
            "metadata": {}, 
            "outputs": [], 
            "source": "#connection for pandas\npconn = ibm_db_dbi.Connection(conn)"
        }, 
        {
            "execution_count": 16, 
            "cell_type": "code", 
            "metadata": {}, 
            "outputs": [
                {
                    "execution_count": 16, 
                    "metadata": {}, 
                    "data": {
                        "text/plain": "'Ahuja'"
                    }, 
                    "output_type": "execute_result"
                }
            ], 
            "source": "#query statement to retrieve all rows in INSTRUCTOR table\nselectQuery = \"select * from INSTRUCTOR\"\n\n#retrieve the query results into a pandas dataframe\npdf = pandas.read_sql(selectQuery, pconn)\n\n#print just the LNAME for first row in the pandas data frame\npdf.LNAME[0]"
        }, 
        {
            "execution_count": 17, 
            "cell_type": "code", 
            "metadata": {}, 
            "outputs": [
                {
                    "execution_count": 17, 
                    "metadata": {}, 
                    "data": {
                        "text/plain": "(3, 5)"
                    }, 
                    "output_type": "execute_result"
                }
            ], 
            "source": "pdf.shape"
        }, 
        {
            "execution_count": 18, 
            "cell_type": "code", 
            "metadata": {
                "scrolled": true
            }, 
            "outputs": [
                {
                    "execution_count": 18, 
                    "metadata": {}, 
                    "data": {
                        "text/plain": "True"
                    }, 
                    "output_type": "execute_result"
                }
            ], 
            "source": "# close the connection\nibm_db.close(conn)"
        }, 
        {
            "source": "### For convenience, we can use %%sql (two %'s instead of one) at the top of a cell to indicate we want the entire cell to be treated as SQL. Let's use this to create a table and fill it with some test data for experimenting.", 
            "cell_type": "markdown", 
            "metadata": {}
        }, 
        {
            "execution_count": 19, 
            "cell_type": "code", 
            "metadata": {}, 
            "outputs": [
                {
                    "output_type": "stream", 
                    "name": "stdout", 
                    "text": "Requirement not upgraded as not directly required: ipython-sql in /home/dsxuser/.local/lib/python3.5/site-packages\nRequirement not upgraded as not directly required: sqlparse in /home/dsxuser/.local/lib/python3.5/site-packages (from ipython-sql)\nRequirement not upgraded as not directly required: prettytable in /home/dsxuser/.local/lib/python3.5/site-packages (from ipython-sql)\nRequirement not upgraded as not directly required: six in /opt/conda/envs/DSX-Python35/lib/python3.5/site-packages (from ipython-sql)\nRequirement not upgraded as not directly required: sqlalchemy>=0.6.7 in /opt/conda/envs/DSX-Python35/lib/python3.5/site-packages (from ipython-sql)\nRequirement not upgraded as not directly required: ipython-genutils>=0.1.0 in /opt/conda/envs/DSX-Python35/lib/python3.5/site-packages (from ipython-sql)\nRequirement not upgraded as not directly required: ipython>=1.0 in /opt/conda/envs/DSX-Python35/lib/python3.5/site-packages (from ipython-sql)\nRequirement not upgraded as not directly required: setuptools>=18.5 in /opt/conda/envs/DSX-Python35/lib/python3.5/site-packages (from ipython>=1.0->ipython-sql)\nRequirement not upgraded as not directly required: jedi>=0.10 in /opt/conda/envs/DSX-Python35/lib/python3.5/site-packages (from ipython>=1.0->ipython-sql)\nRequirement not upgraded as not directly required: decorator in /opt/conda/envs/DSX-Python35/lib/python3.5/site-packages (from ipython>=1.0->ipython-sql)\nRequirement not upgraded as not directly required: pickleshare in /opt/conda/envs/DSX-Python35/lib/python3.5/site-packages (from ipython>=1.0->ipython-sql)\nRequirement not upgraded as not directly required: simplegeneric>0.8 in /opt/conda/envs/DSX-Python35/lib/python3.5/site-packages (from ipython>=1.0->ipython-sql)\nRequirement not upgraded as not directly required: traitlets>=4.2 in /opt/conda/envs/DSX-Python35/lib/python3.5/site-packages (from ipython>=1.0->ipython-sql)\nRequirement not upgraded as not directly required: prompt_toolkit<2.0.0,>=1.0.4 in /opt/conda/envs/DSX-Python35/lib/python3.5/site-packages (from ipython>=1.0->ipython-sql)\nRequirement not upgraded as not directly required: pygments in /opt/conda/envs/DSX-Python35/lib/python3.5/site-packages (from ipython>=1.0->ipython-sql)\nRequirement not upgraded as not directly required: pexpect in /opt/conda/envs/DSX-Python35/lib/python3.5/site-packages (from ipython>=1.0->ipython-sql)\nRequirement not upgraded as not directly required: wcwidth in /opt/conda/envs/DSX-Python35/lib/python3.5/site-packages (from prompt_toolkit<2.0.0,>=1.0.4->ipython>=1.0->ipython-sql)\nRequirement not upgraded as not directly required: ibm_db in /opt/conda/envs/DSX-Python35/lib/python3.5/site-packages\nRequirement not upgraded as not directly required: ibm_db_sa in /opt/conda/envs/DSX-Python35/lib/python3.5/site-packages\nRequirement not upgraded as not directly required: sqlalchemy>=0.7.3 in /opt/conda/envs/DSX-Python35/lib/python3.5/site-packages (from ibm_db_sa)\n"
                }
            ], 
            "source": "!pip install --user ipython-sql\n!pip install --user ibm_db\n!pip install --user ibm_db_sa"
        }, 
        {
            "execution_count": 20, 
            "cell_type": "code", 
            "metadata": {}, 
            "outputs": [], 
            "source": "%load_ext sql"
        }, 
        {
            "execution_count": 21, 
            "cell_type": "code", 
            "metadata": {}, 
            "outputs": [
                {
                    "execution_count": 21, 
                    "metadata": {}, 
                    "data": {
                        "text/plain": "'Connected: hpf03826@BLUDB'"
                    }, 
                    "output_type": "execute_result"
                }
            ], 
            "source": "# The code was removed by Watson Studio for sharing."
        }, 
        {
            "execution_count": 22, 
            "cell_type": "code", 
            "metadata": {}, 
            "outputs": [
                {
                    "output_type": "stream", 
                    "name": "stdout", 
                    "text": " * ibm_db_sa://hpf03826:***@dashdb-txn-sbox-yp-dal09-04.services.dal.bluemix.net:50000/BLUDB\n(ibm_db_dbi.ProgrammingError) ibm_db_dbi::ProgrammingError: Statement Execute Failed: [IBM][CLI Driver][DB2/LINUXX8664] SQL0601N  The name of the object to be created is identical to the existing name \"HPF03826.INTERNATIONAL_STUDENT_TEST_SCORES\" of type \"TABLE\".  SQLSTATE=42710 SQLCODE=-601 [SQL: 'CREATE TABLE INTERNATIONAL_STUDENT_TEST_SCORES (\\n\\tcountry VARCHAR(50),\\n\\tfirst_name VARCHAR(50),\\n\\tlast_name VARCHAR(50),\\n\\ttest_score INT\\n);']\n"
                }
            ], 
            "source": "%%sql\n\nCREATE TABLE INTERNATIONAL_STUDENT_TEST_SCORES (\n\tcountry VARCHAR(50),\n\tfirst_name VARCHAR(50),\n\tlast_name VARCHAR(50),\n\ttest_score INT\n);\nINSERT INTO INTERNATIONAL_STUDENT_TEST_SCORES (country, first_name, last_name, test_score)\nVALUES\n('United States', 'Marshall', 'Bernadot', 54),\n('Ghana', 'Celinda', 'Malkin', 51),\n('Ukraine', 'Guillermo', 'Furze', 53),\n('Greece', 'Aharon', 'Tunnow', 48),\n('Russia', 'Bail', 'Goodwin', 46),\n('Poland', 'Cole', 'Winteringham', 49),\n('Sweden', 'Emlyn', 'Erricker', 55),\n('Russia', 'Cathee', 'Sivewright', 49),\n('China', 'Barny', 'Ingerson', 57),\n('Uganda', 'Sharla', 'Papaccio', 55),\n('China', 'Stella', 'Youens', 51),\n('Poland', 'Julio', 'Buesden', 48),\n('United States', 'Tiffie', 'Cosely', 58),\n('Poland', 'Auroora', 'Stiffell', 45),\n('China', 'Clarita', 'Huet', 52),\n('Poland', 'Shannon', 'Goulden', 45),\n('Philippines', 'Emylee', 'Privost', 50),\n('France', 'Madelina', 'Burk', 49),\n('China', 'Saunderson', 'Root', 58),\n('Indonesia', 'Bo', 'Waring', 55),\n('China', 'Hollis', 'Domotor', 45),\n('Russia', 'Robbie', 'Collip', 46),\n('Philippines', 'Davon', 'Donisi', 46),\n('China', 'Cristabel', 'Radeliffe', 48),\n('China', 'Wallis', 'Bartleet', 58),\n('Moldova', 'Arleen', 'Stailey', 38),\n('Ireland', 'Mendel', 'Grumble', 58),\n('China', 'Sallyann', 'Exley', 51),\n('Mexico', 'Kain', 'Swaite', 46),\n('Indonesia', 'Alonso', 'Bulteel', 45),\n('Armenia', 'Anatol', 'Tankus', 51),\n('Indonesia', 'Coralyn', 'Dawkins', 48),\n('China', 'Deanne', 'Edwinson', 45),\n('China', 'Georgiana', 'Epple', 51),\n('Portugal', 'Bartlet', 'Breese', 56),\n('Azerbaijan', 'Idalina', 'Lukash', 50),\n('France', 'Livvie', 'Flory', 54),\n('Malaysia', 'Nonie', 'Borit', 48),\n('Indonesia', 'Clio', 'Mugg', 47),\n('Brazil', 'Westley', 'Measor', 48),\n('Philippines', 'Katrinka', 'Sibbert', 51),\n('Poland', 'Valentia', 'Mounch', 50),\n('Norway', 'Sheilah', 'Hedditch', 53),\n('Papua New Guinea', 'Itch', 'Jubb', 50),\n('Latvia', 'Stesha', 'Garnson', 53),\n('Canada', 'Cristionna', 'Wadmore', 46),\n('China', 'Lianna', 'Gatward', 43),\n('Guatemala', 'Tanney', 'Vials', 48),\n('France', 'Alma', 'Zavittieri', 44),\n('China', 'Alvira', 'Tamas', 50),\n('United States', 'Shanon', 'Peres', 45),\n('Sweden', 'Maisey', 'Lynas', 53),\n('Indonesia', 'Kip', 'Hothersall', 46),\n('China', 'Cash', 'Landis', 48),\n('Panama', 'Kennith', 'Digance', 45),\n('China', 'Ulberto', 'Riggeard', 48),\n('Switzerland', 'Judy', 'Gilligan', 49),\n('Philippines', 'Tod', 'Trevaskus', 52),\n('Brazil', 'Herold', 'Heggs', 44),\n('Latvia', 'Verney', 'Note', 50),\n('Poland', 'Temp', 'Ribey', 50),\n('China', 'Conroy', 'Egdal', 48),\n('Japan', 'Gabie', 'Alessandone', 47),\n('Ukraine', 'Devlen', 'Chaperlin', 54),\n('France', 'Babbette', 'Turner', 51),\n('Czech Republic', 'Virgil', 'Scotney', 52),\n('Tajikistan', 'Zorina', 'Bedow', 49),\n('China', 'Aidan', 'Rudeyeard', 50),\n('Ireland', 'Saunder', 'MacLice', 48),\n('France', 'Waly', 'Brunstan', 53),\n('China', 'Gisele', 'Enns', 52),\n('Peru', 'Mina', 'Winchester', 48),\n('Japan', 'Torie', 'MacShirrie', 50),\n('Russia', 'Benjamen', 'Kenford', 51),\n('China', 'Etan', 'Burn', 53),\n('Russia', 'Merralee', 'Chaperlin', 38),\n('Indonesia', 'Lanny', 'Malam', 49),\n('Canada', 'Wilhelm', 'Deeprose', 54),\n('Czech Republic', 'Lari', 'Hillhouse', 48),\n('China', 'Ossie', 'Woodley', 52),\n('Macedonia', 'April', 'Tyer', 50),\n('Vietnam', 'Madelon', 'Dansey', 53),\n('Ukraine', 'Korella', 'McNamee', 52),\n('Jamaica', 'Linnea', 'Cannam', 43),\n('China', 'Mart', 'Coling', 52),\n('Indonesia', 'Marna', 'Causbey', 47),\n('China', 'Berni', 'Daintier', 55),\n('Poland', 'Cynthia', 'Hassell', 49),\n('Canada', 'Carma', 'Schule', 49),\n('Indonesia', 'Malia', 'Blight', 48),\n('China', 'Paulo', 'Seivertsen', 47),\n('Niger', 'Kaylee', 'Hearley', 54),\n('Japan', 'Maure', 'Jandak', 46),\n('Argentina', 'Foss', 'Feavers', 45),\n('Venezuela', 'Ron', 'Leggitt', 60),\n('Russia', 'Flint', 'Gokes', 40),\n('China', 'Linet', 'Conelly', 52),\n('Philippines', 'Nikolas', 'Birtwell', 57),\n('Australia', 'Eduard', 'Leipelt', 53)"
        }, 
        {
            "source": "### You can use python variables in your SQL statements by adding a \":\" prefix to your python variable names.\n\nFor example, if I have a python variable country with a value of \"Canada\", I can use this variable in a SQL query to find all the rows of students from Canada.", 
            "cell_type": "markdown", 
            "metadata": {}
        }, 
        {
            "execution_count": 23, 
            "cell_type": "code", 
            "metadata": {}, 
            "outputs": [
                {
                    "output_type": "stream", 
                    "name": "stdout", 
                    "text": " * ibm_db_sa://hpf03826:***@dashdb-txn-sbox-yp-dal09-04.services.dal.bluemix.net:50000/BLUDB\nDone.\n"
                }, 
                {
                    "execution_count": 23, 
                    "metadata": {}, 
                    "data": {
                        "text/html": "<table>\n    <tr>\n        <th>country</th>\n        <th>first_name</th>\n        <th>last_name</th>\n        <th>test_score</th>\n    </tr>\n    <tr>\n        <td>Canada</td>\n        <td>Cristionna</td>\n        <td>Wadmore</td>\n        <td>46</td>\n    </tr>\n    <tr>\n        <td>Canada</td>\n        <td>Wilhelm</td>\n        <td>Deeprose</td>\n        <td>54</td>\n    </tr>\n    <tr>\n        <td>Canada</td>\n        <td>Carma</td>\n        <td>Schule</td>\n        <td>49</td>\n    </tr>\n</table>", 
                        "text/plain": "[('Canada', 'Cristionna', 'Wadmore', 46),\n ('Canada', 'Wilhelm', 'Deeprose', 54),\n ('Canada', 'Carma', 'Schule', 49)]"
                    }, 
                    "output_type": "execute_result"
                }
            ], 
            "source": "country = \"Canada\"\n%sql select * from INTERNATIONAL_STUDENT_TEST_SCORES where country = :country"
        }, 
        {
            "execution_count": 24, 
            "cell_type": "code", 
            "metadata": {}, 
            "outputs": [
                {
                    "output_type": "stream", 
                    "name": "stdout", 
                    "text": " * ibm_db_sa://hpf03826:***@dashdb-txn-sbox-yp-dal09-04.services.dal.bluemix.net:50000/BLUDB\nDone.\n"
                }, 
                {
                    "execution_count": 24, 
                    "metadata": {}, 
                    "data": {
                        "text/html": "<table>\n    <tr>\n        <th>Test Score</th>\n        <th>Frequency</th>\n    </tr>\n    <tr>\n        <td>38</td>\n        <td>2</td>\n    </tr>\n    <tr>\n        <td>40</td>\n        <td>1</td>\n    </tr>\n    <tr>\n        <td>43</td>\n        <td>2</td>\n    </tr>\n    <tr>\n        <td>44</td>\n        <td>2</td>\n    </tr>\n    <tr>\n        <td>45</td>\n        <td>8</td>\n    </tr>\n    <tr>\n        <td>46</td>\n        <td>7</td>\n    </tr>\n    <tr>\n        <td>47</td>\n        <td>4</td>\n    </tr>\n    <tr>\n        <td>48</td>\n        <td>14</td>\n    </tr>\n    <tr>\n        <td>49</td>\n        <td>8</td>\n    </tr>\n    <tr>\n        <td>50</td>\n        <td>10</td>\n    </tr>\n    <tr>\n        <td>51</td>\n        <td>8</td>\n    </tr>\n    <tr>\n        <td>52</td>\n        <td>8</td>\n    </tr>\n    <tr>\n        <td>53</td>\n        <td>8</td>\n    </tr>\n    <tr>\n        <td>54</td>\n        <td>5</td>\n    </tr>\n    <tr>\n        <td>55</td>\n        <td>4</td>\n    </tr>\n    <tr>\n        <td>56</td>\n        <td>1</td>\n    </tr>\n    <tr>\n        <td>57</td>\n        <td>2</td>\n    </tr>\n    <tr>\n        <td>58</td>\n        <td>4</td>\n    </tr>\n    <tr>\n        <td>60</td>\n        <td>1</td>\n    </tr>\n</table>", 
                        "text/plain": "[(38, Decimal('2')),\n (40, Decimal('1')),\n (43, Decimal('2')),\n (44, Decimal('2')),\n (45, Decimal('8')),\n (46, Decimal('7')),\n (47, Decimal('4')),\n (48, Decimal('14')),\n (49, Decimal('8')),\n (50, Decimal('10')),\n (51, Decimal('8')),\n (52, Decimal('8')),\n (53, Decimal('8')),\n (54, Decimal('5')),\n (55, Decimal('4')),\n (56, Decimal('1')),\n (57, Decimal('2')),\n (58, Decimal('4')),\n (60, Decimal('1'))]"
                    }, 
                    "output_type": "execute_result"
                }
            ], 
            "source": "test_score_distribution = %sql SELECT test_score as \"Test Score\", count(*) as \"Frequency\" from INTERNATIONAL_STUDENT_TEST_SCORES GROUP BY test_score;\ntest_score_distribution"
        }, 
        {
            "execution_count": 25, 
            "cell_type": "code", 
            "metadata": {}, 
            "outputs": [
                {
                    "output_type": "stream", 
                    "name": "stderr", 
                    "text": "/opt/conda/envs/DSX-Python35/lib/python3.5/site-packages/seaborn/categorical.py:1460: FutureWarning: remove_na is deprecated and is a private function. Do not use.\n  stat_data = remove_na(group_data)\n"
                }, 
                {
                    "output_type": "display_data", 
                    "data": {
                        "image/png": "[encoded data removed]", 
                        "text/plain": "<matplotlib.figure.Figure at 0x7fa6bd4414e0>"
                    }, 
                    "metadata": {}
                }
            ], 
            "source": "dataframe = test_score_distribution.DataFrame()\n\n%matplotlib inline\nimport seaborn\n\nplot = seaborn.barplot(x='Test Score',y='Frequency', data=dataframe)"
        }, 
        {
            "execution_count": 26, 
            "cell_type": "code", 
            "metadata": {}, 
            "outputs": [
                {
                    "output_type": "stream", 
                    "name": "stdout", 
                    "text": " * ibm_db_sa://hpf03826:***@dashdb-txn-sbox-yp-dal09-04.services.dal.bluemix.net:50000/BLUDB\nDone.\n"
                }, 
                {
                    "execution_count": 26, 
                    "metadata": {}, 
                    "data": {
                        "text/html": "<table>\n    <tr>\n        <th>country</th>\n        <th>first_name</th>\n        <th>last_name</th>\n        <th>test_score</th>\n    </tr>\n    <tr>\n        <td>United States</td>\n        <td>Marshall</td>\n        <td>Bernadot</td>\n        <td>54</td>\n    </tr>\n    <tr>\n        <td>Ghana</td>\n        <td>Celinda</td>\n        <td>Malkin</td>\n        <td>51</td>\n    </tr>\n    <tr>\n        <td>Ukraine</td>\n        <td>Guillermo</td>\n        <td>Furze</td>\n        <td>53</td>\n    </tr>\n    <tr>\n        <td>Greece</td>\n        <td>Aharon</td>\n        <td>Tunnow</td>\n        <td>48</td>\n    </tr>\n    <tr>\n        <td>Russia</td>\n        <td>Bail</td>\n        <td>Goodwin</td>\n        <td>46</td>\n    </tr>\n    <tr>\n        <td>Poland</td>\n        <td>Cole</td>\n        <td>Winteringham</td>\n        <td>49</td>\n    </tr>\n    <tr>\n        <td>Sweden</td>\n        <td>Emlyn</td>\n        <td>Erricker</td>\n        <td>55</td>\n    </tr>\n    <tr>\n        <td>Russia</td>\n        <td>Cathee</td>\n        <td>Sivewright</td>\n        <td>49</td>\n    </tr>\n    <tr>\n        <td>China</td>\n        <td>Barny</td>\n        <td>Ingerson</td>\n        <td>57</td>\n    </tr>\n    <tr>\n        <td>Uganda</td>\n        <td>Sharla</td>\n        <td>Papaccio</td>\n        <td>55</td>\n    </tr>\n    <tr>\n        <td>China</td>\n        <td>Stella</td>\n        <td>Youens</td>\n        <td>51</td>\n    </tr>\n    <tr>\n        <td>Poland</td>\n        <td>Julio</td>\n        <td>Buesden</td>\n        <td>48</td>\n    </tr>\n    <tr>\n        <td>United States</td>\n        <td>Tiffie</td>\n        <td>Cosely</td>\n        <td>58</td>\n    </tr>\n    <tr>\n        <td>Poland</td>\n        <td>Auroora</td>\n        <td>Stiffell</td>\n        <td>45</td>\n    </tr>\n    <tr>\n        <td>China</td>\n        <td>Clarita</td>\n        <td>Huet</td>\n        <td>52</td>\n    </tr>\n    <tr>\n        <td>Poland</td>\n        <td>Shannon</td>\n        <td>Goulden</td>\n        <td>45</td>\n    </tr>\n    <tr>\n        <td>Philippines</td>\n        <td>Emylee</td>\n        <td>Privost</td>\n        <td>50</td>\n    </tr>\n    <tr>\n        <td>France</td>\n        <td>Madelina</td>\n        <td>Burk</td>\n        <td>49</td>\n    </tr>\n    <tr>\n        <td>China</td>\n        <td>Saunderson</td>\n        <td>Root</td>\n        <td>58</td>\n    </tr>\n    <tr>\n        <td>Indonesia</td>\n        <td>Bo</td>\n        <td>Waring</td>\n        <td>55</td>\n    </tr>\n    <tr>\n        <td>China</td>\n        <td>Hollis</td>\n        <td>Domotor</td>\n        <td>45</td>\n    </tr>\n    <tr>\n        <td>Russia</td>\n        <td>Robbie</td>\n        <td>Collip</td>\n        <td>46</td>\n    </tr>\n    <tr>\n        <td>Philippines</td>\n        <td>Davon</td>\n        <td>Donisi</td>\n        <td>46</td>\n    </tr>\n    <tr>\n        <td>China</td>\n        <td>Cristabel</td>\n        <td>Radeliffe</td>\n        <td>48</td>\n    </tr>\n    <tr>\n        <td>China</td>\n        <td>Wallis</td>\n        <td>Bartleet</td>\n        <td>58</td>\n    </tr>\n    <tr>\n        <td>Moldova</td>\n        <td>Arleen</td>\n        <td>Stailey</td>\n        <td>38</td>\n    </tr>\n    <tr>\n        <td>Ireland</td>\n        <td>Mendel</td>\n        <td>Grumble</td>\n        <td>58</td>\n    </tr>\n    <tr>\n        <td>China</td>\n        <td>Sallyann</td>\n        <td>Exley</td>\n        <td>51</td>\n    </tr>\n    <tr>\n        <td>Mexico</td>\n        <td>Kain</td>\n        <td>Swaite</td>\n        <td>46</td>\n    </tr>\n    <tr>\n        <td>Indonesia</td>\n        <td>Alonso</td>\n        <td>Bulteel</td>\n        <td>45</td>\n    </tr>\n    <tr>\n        <td>Armenia</td>\n        <td>Anatol</td>\n        <td>Tankus</td>\n        <td>51</td>\n    </tr>\n    <tr>\n        <td>Indonesia</td>\n        <td>Coralyn</td>\n        <td>Dawkins</td>\n        <td>48</td>\n    </tr>\n    <tr>\n        <td>China</td>\n        <td>Deanne</td>\n        <td>Edwinson</td>\n        <td>45</td>\n    </tr>\n    <tr>\n        <td>China</td>\n        <td>Georgiana</td>\n        <td>Epple</td>\n        <td>51</td>\n    </tr>\n    <tr>\n        <td>Portugal</td>\n        <td>Bartlet</td>\n        <td>Breese</td>\n        <td>56</td>\n    </tr>\n    <tr>\n        <td>Azerbaijan</td>\n        <td>Idalina</td>\n        <td>Lukash</td>\n        <td>50</td>\n    </tr>\n    <tr>\n        <td>France</td>\n        <td>Livvie</td>\n        <td>Flory</td>\n        <td>54</td>\n    </tr>\n    <tr>\n        <td>Malaysia</td>\n        <td>Nonie</td>\n        <td>Borit</td>\n        <td>48</td>\n    </tr>\n    <tr>\n        <td>Indonesia</td>\n        <td>Clio</td>\n        <td>Mugg</td>\n        <td>47</td>\n    </tr>\n    <tr>\n        <td>Brazil</td>\n        <td>Westley</td>\n        <td>Measor</td>\n        <td>48</td>\n    </tr>\n    <tr>\n        <td>Philippines</td>\n        <td>Katrinka</td>\n        <td>Sibbert</td>\n        <td>51</td>\n    </tr>\n    <tr>\n        <td>Poland</td>\n        <td>Valentia</td>\n        <td>Mounch</td>\n        <td>50</td>\n    </tr>\n    <tr>\n        <td>Norway</td>\n        <td>Sheilah</td>\n        <td>Hedditch</td>\n        <td>53</td>\n    </tr>\n    <tr>\n        <td>Papua New Guinea</td>\n        <td>Itch</td>\n        <td>Jubb</td>\n        <td>50</td>\n    </tr>\n    <tr>\n        <td>Latvia</td>\n        <td>Stesha</td>\n        <td>Garnson</td>\n        <td>53</td>\n    </tr>\n    <tr>\n        <td>Canada</td>\n        <td>Cristionna</td>\n        <td>Wadmore</td>\n        <td>46</td>\n    </tr>\n    <tr>\n        <td>China</td>\n        <td>Lianna</td>\n        <td>Gatward</td>\n        <td>43</td>\n    </tr>\n    <tr>\n        <td>Guatemala</td>\n        <td>Tanney</td>\n        <td>Vials</td>\n        <td>48</td>\n    </tr>\n    <tr>\n        <td>France</td>\n        <td>Alma</td>\n        <td>Zavittieri</td>\n        <td>44</td>\n    </tr>\n    <tr>\n        <td>China</td>\n        <td>Alvira</td>\n        <td>Tamas</td>\n        <td>50</td>\n    </tr>\n    <tr>\n        <td>United States</td>\n        <td>Shanon</td>\n        <td>Peres</td>\n        <td>45</td>\n    </tr>\n    <tr>\n        <td>Sweden</td>\n        <td>Maisey</td>\n        <td>Lynas</td>\n        <td>53</td>\n    </tr>\n    <tr>\n        <td>Indonesia</td>\n        <td>Kip</td>\n        <td>Hothersall</td>\n        <td>46</td>\n    </tr>\n    <tr>\n        <td>China</td>\n        <td>Cash</td>\n        <td>Landis</td>\n        <td>48</td>\n    </tr>\n    <tr>\n        <td>Panama</td>\n        <td>Kennith</td>\n        <td>Digance</td>\n        <td>45</td>\n    </tr>\n    <tr>\n        <td>China</td>\n        <td>Ulberto</td>\n        <td>Riggeard</td>\n        <td>48</td>\n    </tr>\n    <tr>\n        <td>Switzerland</td>\n        <td>Judy</td>\n        <td>Gilligan</td>\n        <td>49</td>\n    </tr>\n    <tr>\n        <td>Philippines</td>\n        <td>Tod</td>\n        <td>Trevaskus</td>\n        <td>52</td>\n    </tr>\n    <tr>\n        <td>Brazil</td>\n        <td>Herold</td>\n        <td>Heggs</td>\n        <td>44</td>\n    </tr>\n    <tr>\n        <td>Latvia</td>\n        <td>Verney</td>\n        <td>Note</td>\n        <td>50</td>\n    </tr>\n    <tr>\n        <td>Poland</td>\n        <td>Temp</td>\n        <td>Ribey</td>\n        <td>50</td>\n    </tr>\n    <tr>\n        <td>China</td>\n        <td>Conroy</td>\n        <td>Egdal</td>\n        <td>48</td>\n    </tr>\n    <tr>\n        <td>Japan</td>\n        <td>Gabie</td>\n        <td>Alessandone</td>\n        <td>47</td>\n    </tr>\n    <tr>\n        <td>Ukraine</td>\n        <td>Devlen</td>\n        <td>Chaperlin</td>\n        <td>54</td>\n    </tr>\n    <tr>\n        <td>France</td>\n        <td>Babbette</td>\n        <td>Turner</td>\n        <td>51</td>\n    </tr>\n    <tr>\n        <td>Czech Republic</td>\n        <td>Virgil</td>\n        <td>Scotney</td>\n        <td>52</td>\n    </tr>\n    <tr>\n        <td>Tajikistan</td>\n        <td>Zorina</td>\n        <td>Bedow</td>\n        <td>49</td>\n    </tr>\n    <tr>\n        <td>China</td>\n        <td>Aidan</td>\n        <td>Rudeyeard</td>\n        <td>50</td>\n    </tr>\n    <tr>\n        <td>Ireland</td>\n        <td>Saunder</td>\n        <td>MacLice</td>\n        <td>48</td>\n    </tr>\n    <tr>\n        <td>France</td>\n        <td>Waly</td>\n        <td>Brunstan</td>\n        <td>53</td>\n    </tr>\n    <tr>\n        <td>China</td>\n        <td>Gisele</td>\n        <td>Enns</td>\n        <td>52</td>\n    </tr>\n    <tr>\n        <td>Peru</td>\n        <td>Mina</td>\n        <td>Winchester</td>\n        <td>48</td>\n    </tr>\n    <tr>\n        <td>Japan</td>\n        <td>Torie</td>\n        <td>MacShirrie</td>\n        <td>50</td>\n    </tr>\n    <tr>\n        <td>Russia</td>\n        <td>Benjamen</td>\n        <td>Kenford</td>\n        <td>51</td>\n    </tr>\n    <tr>\n        <td>China</td>\n        <td>Etan</td>\n        <td>Burn</td>\n        <td>53</td>\n    </tr>\n    <tr>\n        <td>Russia</td>\n        <td>Merralee</td>\n        <td>Chaperlin</td>\n        <td>38</td>\n    </tr>\n    <tr>\n        <td>Indonesia</td>\n        <td>Lanny</td>\n        <td>Malam</td>\n        <td>49</td>\n    </tr>\n    <tr>\n        <td>Canada</td>\n        <td>Wilhelm</td>\n        <td>Deeprose</td>\n        <td>54</td>\n    </tr>\n    <tr>\n        <td>Czech Republic</td>\n        <td>Lari</td>\n        <td>Hillhouse</td>\n        <td>48</td>\n    </tr>\n    <tr>\n        <td>China</td>\n        <td>Ossie</td>\n        <td>Woodley</td>\n        <td>52</td>\n    </tr>\n    <tr>\n        <td>Macedonia</td>\n        <td>April</td>\n        <td>Tyer</td>\n        <td>50</td>\n    </tr>\n    <tr>\n        <td>Vietnam</td>\n        <td>Madelon</td>\n        <td>Dansey</td>\n        <td>53</td>\n    </tr>\n    <tr>\n        <td>Ukraine</td>\n        <td>Korella</td>\n        <td>McNamee</td>\n        <td>52</td>\n    </tr>\n    <tr>\n        <td>Jamaica</td>\n        <td>Linnea</td>\n        <td>Cannam</td>\n        <td>43</td>\n    </tr>\n    <tr>\n        <td>China</td>\n        <td>Mart</td>\n        <td>Coling</td>\n        <td>52</td>\n    </tr>\n    <tr>\n        <td>Indonesia</td>\n        <td>Marna</td>\n        <td>Causbey</td>\n        <td>47</td>\n    </tr>\n    <tr>\n        <td>China</td>\n        <td>Berni</td>\n        <td>Daintier</td>\n        <td>55</td>\n    </tr>\n    <tr>\n        <td>Poland</td>\n        <td>Cynthia</td>\n        <td>Hassell</td>\n        <td>49</td>\n    </tr>\n    <tr>\n        <td>Canada</td>\n        <td>Carma</td>\n        <td>Schule</td>\n        <td>49</td>\n    </tr>\n    <tr>\n        <td>Indonesia</td>\n        <td>Malia</td>\n        <td>Blight</td>\n        <td>48</td>\n    </tr>\n    <tr>\n        <td>China</td>\n        <td>Paulo</td>\n        <td>Seivertsen</td>\n        <td>47</td>\n    </tr>\n    <tr>\n        <td>Niger</td>\n        <td>Kaylee</td>\n        <td>Hearley</td>\n        <td>54</td>\n    </tr>\n    <tr>\n        <td>Japan</td>\n        <td>Maure</td>\n        <td>Jandak</td>\n        <td>46</td>\n    </tr>\n    <tr>\n        <td>Argentina</td>\n        <td>Foss</td>\n        <td>Feavers</td>\n        <td>45</td>\n    </tr>\n    <tr>\n        <td>Venezuela</td>\n        <td>Ron</td>\n        <td>Leggitt</td>\n        <td>60</td>\n    </tr>\n    <tr>\n        <td>Russia</td>\n        <td>Flint</td>\n        <td>Gokes</td>\n        <td>40</td>\n    </tr>\n    <tr>\n        <td>China</td>\n        <td>Linet</td>\n        <td>Conelly</td>\n        <td>52</td>\n    </tr>\n    <tr>\n        <td>Philippines</td>\n        <td>Nikolas</td>\n        <td>Birtwell</td>\n        <td>57</td>\n    </tr>\n    <tr>\n        <td>Australia</td>\n        <td>Eduard</td>\n        <td>Leipelt</td>\n        <td>53</td>\n    </tr>\n</table>", 
                        "text/plain": "[('United States', 'Marshall', 'Bernadot', 54),\n ('Ghana', 'Celinda', 'Malkin', 51),\n ('Ukraine', 'Guillermo', 'Furze', 53),\n ('Greece', 'Aharon', 'Tunnow', 48),\n ('Russia', 'Bail', 'Goodwin', 46),\n ('Poland', 'Cole', 'Winteringham', 49),\n ('Sweden', 'Emlyn', 'Erricker', 55),\n ('Russia', 'Cathee', 'Sivewright', 49),\n ('China', 'Barny', 'Ingerson', 57),\n ('Uganda', 'Sharla', 'Papaccio', 55),\n ('China', 'Stella', 'Youens', 51),\n ('Poland', 'Julio', 'Buesden', 48),\n ('United States', 'Tiffie', 'Cosely', 58),\n ('Poland', 'Auroora', 'Stiffell', 45),\n ('China', 'Clarita', 'Huet', 52),\n ('Poland', 'Shannon', 'Goulden', 45),\n ('Philippines', 'Emylee', 'Privost', 50),\n ('France', 'Madelina', 'Burk', 49),\n ('China', 'Saunderson', 'Root', 58),\n ('Indonesia', 'Bo', 'Waring', 55),\n ('China', 'Hollis', 'Domotor', 45),\n ('Russia', 'Robbie', 'Collip', 46),\n ('Philippines', 'Davon', 'Donisi', 46),\n ('China', 'Cristabel', 'Radeliffe', 48),\n ('China', 'Wallis', 'Bartleet', 58),\n ('Moldova', 'Arleen', 'Stailey', 38),\n ('Ireland', 'Mendel', 'Grumble', 58),\n ('China', 'Sallyann', 'Exley', 51),\n ('Mexico', 'Kain', 'Swaite', 46),\n ('Indonesia', 'Alonso', 'Bulteel', 45),\n ('Armenia', 'Anatol', 'Tankus', 51),\n ('Indonesia', 'Coralyn', 'Dawkins', 48),\n ('China', 'Deanne', 'Edwinson', 45),\n ('China', 'Georgiana', 'Epple', 51),\n ('Portugal', 'Bartlet', 'Breese', 56),\n ('Azerbaijan', 'Idalina', 'Lukash', 50),\n ('France', 'Livvie', 'Flory', 54),\n ('Malaysia', 'Nonie', 'Borit', 48),\n ('Indonesia', 'Clio', 'Mugg', 47),\n ('Brazil', 'Westley', 'Measor', 48),\n ('Philippines', 'Katrinka', 'Sibbert', 51),\n ('Poland', 'Valentia', 'Mounch', 50),\n ('Norway', 'Sheilah', 'Hedditch', 53),\n ('Papua New Guinea', 'Itch', 'Jubb', 50),\n ('Latvia', 'Stesha', 'Garnson', 53),\n ('Canada', 'Cristionna', 'Wadmore', 46),\n ('China', 'Lianna', 'Gatward', 43),\n ('Guatemala', 'Tanney', 'Vials', 48),\n ('France', 'Alma', 'Zavittieri', 44),\n ('China', 'Alvira', 'Tamas', 50),\n ('United States', 'Shanon', 'Peres', 45),\n ('Sweden', 'Maisey', 'Lynas', 53),\n ('Indonesia', 'Kip', 'Hothersall', 46),\n ('China', 'Cash', 'Landis', 48),\n ('Panama', 'Kennith', 'Digance', 45),\n ('China', 'Ulberto', 'Riggeard', 48),\n ('Switzerland', 'Judy', 'Gilligan', 49),\n ('Philippines', 'Tod', 'Trevaskus', 52),\n ('Brazil', 'Herold', 'Heggs', 44),\n ('Latvia', 'Verney', 'Note', 50),\n ('Poland', 'Temp', 'Ribey', 50),\n ('China', 'Conroy', 'Egdal', 48),\n ('Japan', 'Gabie', 'Alessandone', 47),\n ('Ukraine', 'Devlen', 'Chaperlin', 54),\n ('France', 'Babbette', 'Turner', 51),\n ('Czech Republic', 'Virgil', 'Scotney', 52),\n ('Tajikistan', 'Zorina', 'Bedow', 49),\n ('China', 'Aidan', 'Rudeyeard', 50),\n ('Ireland', 'Saunder', 'MacLice', 48),\n ('France', 'Waly', 'Brunstan', 53),\n ('China', 'Gisele', 'Enns', 52),\n ('Peru', 'Mina', 'Winchester', 48),\n ('Japan', 'Torie', 'MacShirrie', 50),\n ('Russia', 'Benjamen', 'Kenford', 51),\n ('China', 'Etan', 'Burn', 53),\n ('Russia', 'Merralee', 'Chaperlin', 38),\n ('Indonesia', 'Lanny', 'Malam', 49),\n ('Canada', 'Wilhelm', 'Deeprose', 54),\n ('Czech Republic', 'Lari', 'Hillhouse', 48),\n ('China', 'Ossie', 'Woodley', 52),\n ('Macedonia', 'April', 'Tyer', 50),\n ('Vietnam', 'Madelon', 'Dansey', 53),\n ('Ukraine', 'Korella', 'McNamee', 52),\n ('Jamaica', 'Linnea', 'Cannam', 43),\n ('China', 'Mart', 'Coling', 52),\n ('Indonesia', 'Marna', 'Causbey', 47),\n ('China', 'Berni', 'Daintier', 55),\n ('Poland', 'Cynthia', 'Hassell', 49),\n ('Canada', 'Carma', 'Schule', 49),\n ('Indonesia', 'Malia', 'Blight', 48),\n ('China', 'Paulo', 'Seivertsen', 47),\n ('Niger', 'Kaylee', 'Hearley', 54),\n ('Japan', 'Maure', 'Jandak', 46),\n ('Argentina', 'Foss', 'Feavers', 45),\n ('Venezuela', 'Ron', 'Leggitt', 60),\n ('Russia', 'Flint', 'Gokes', 40),\n ('China', 'Linet', 'Conelly', 52),\n ('Philippines', 'Nikolas', 'Birtwell', 57),\n ('Australia', 'Eduard', 'Leipelt', 53)]"
                    }, 
                    "output_type": "execute_result"
                }
            ], 
            "source": "%sql SELECT country, first_name, last_name, test_score FROM INTERNATIONAL_STUDENT_TEST_SCORES"
        }, 
        {
            "source": "# Project Introduction\n\nUsing this Python notebook to:\n\nUnderstand 3 Chicago datasets\nLoad the 3 datasets into 3 tables in a Db2 database\nExecute SQL queries to answer assignment questions\nUnderstand the datasets\n\nTo complete the assignment problems in this notebook you will be using three datasets that are available on the city of Chicago's Data Portal:\n\nSocioeconomic Indicators in Chicago\nChicago Public Schools\nChicago Crime Data\n1. Socioeconomic Indicators in Chicago\n\nThis dataset contains a selection of six socioeconomic indicators of public health significance and a \u201chardship index,\u201d for each Chicago community area, for the years 2008 \u2013 2012.\n\nFor this assignment you will use a snapshot of this dataset which can be downloaded from: https://ibm.box.com/shared/static/05c3415cbfbtfnr2fx4atenb2sd361ze.csv\n\nA detailed description of this dataset and the original dataset can be obtained from the Chicago Data Portal at: https://data.cityofchicago.org/Health-Human-Services/Census-Data-Selected-socioeconomic-indicators-in-C/kn9c-c2s2\n\n2. Chicago Public Schools\n\nThis dataset shows all school level performance data used to create CPS School Report Cards for the 2011-2012 school year. This dataset is provided by the city of Chicago's Data Portal.\n\nFor this assignment you will use a snapshot of this dataset which can be downloaded from: https://ibm.box.com/shared/static/0g7kbanvn5l2gt2qu38ukooatnjqyuys.csv\n\nA detailed description of this dataset and the original dataset can be obtained from the Chicago Data Portal at: https://data.cityofchicago.org/Education/Chicago-Public-Schools-Progress-Report-Cards-2011-/9xs2-f89t\n\n3. Chicago Crime Data\n\nThis dataset reflects reported incidents of crime (with the exception of murders where data exists for each victim) that occurred in the City of Chicago from 2001 to present, minus the most recent seven days.\n\nThis dataset is quite large - over 1.5GB in size with over 6.5 million rows. For the purposes of this assignment we will use a much smaller sample of this dataset which can be downloaded from: https://ibm.box.com/shared/static/svflyugsr9zbqy5bmowgswqemfpm1x7f.csv\n\nA detailed description of this dataset and the original dataset can be obtained from the Chicago Data Portal at: https://data.cityofchicago.org/Public-Safety/Crimes-2001-to-present/ijzp-q8t2\n\nStore the datasets in database tables\n\nIn many cases the dataset to be analyzed is available as a .CSV (comma separated values) file, perhaps on the internet. To analyze the data using SQL, it first needs to be stored in the **IBM DB2 database**.\n\n", 
            "cell_type": "markdown", 
            "metadata": {}
        }, 
        {
            "execution_count": null, 
            "cell_type": "code", 
            "metadata": {}, 
            "outputs": [], 
            "source": "import pandas\nchicago_socioeconomic_data = pandas.read_csv('https://data.cityofchicago.org/resource/jcxq-k9xf.csv')\n%sql PERSIST chicago_socioeconomic_data"
        }, 
        {
            "execution_count": 28, 
            "cell_type": "code", 
            "metadata": {}, 
            "outputs": [
                {
                    "output_type": "stream", 
                    "name": "stdout", 
                    "text": " * ibm_db_sa://hpf03826:***@dashdb-txn-sbox-yp-dal09-04.services.dal.bluemix.net:50000/BLUDB\nDone.\n"
                }, 
                {
                    "execution_count": 28, 
                    "metadata": {}, 
                    "data": {
                        "text/html": "<table>\n    <tr>\n        <th>index</th>\n        <th>ca</th>\n        <th>community_area_name</th>\n        <th>hardship_index</th>\n        <th>per_capita_income_</th>\n        <th>percent_aged_16_unemployed</th>\n        <th>percent_aged_25_without_high_school_diploma</th>\n        <th>percent_aged_under_18_or_over_64</th>\n        <th>percent_households_below_poverty</th>\n        <th>percent_of_housing_crowded</th>\n    </tr>\n    <tr>\n        <td>0</td>\n        <td>1.0</td>\n        <td>Rogers Park</td>\n        <td>39.0</td>\n        <td>23939</td>\n        <td>8.7</td>\n        <td>18.2</td>\n        <td>27.5</td>\n        <td>23.6</td>\n        <td>7.7</td>\n    </tr>\n    <tr>\n        <td>1</td>\n        <td>2.0</td>\n        <td>West Ridge</td>\n        <td>46.0</td>\n        <td>23040</td>\n        <td>8.8</td>\n        <td>20.8</td>\n        <td>38.5</td>\n        <td>17.2</td>\n        <td>7.8</td>\n    </tr>\n    <tr>\n        <td>2</td>\n        <td>3.0</td>\n        <td>Uptown</td>\n        <td>20.0</td>\n        <td>35787</td>\n        <td>8.9</td>\n        <td>11.8</td>\n        <td>22.2</td>\n        <td>24.0</td>\n        <td>3.8</td>\n    </tr>\n    <tr>\n        <td>3</td>\n        <td>4.0</td>\n        <td>Lincoln Square</td>\n        <td>17.0</td>\n        <td>37524</td>\n        <td>8.2</td>\n        <td>13.4</td>\n        <td>25.5</td>\n        <td>10.9</td>\n        <td>3.4</td>\n    </tr>\n    <tr>\n        <td>4</td>\n        <td>5.0</td>\n        <td>North Center</td>\n        <td>6.0</td>\n        <td>57123</td>\n        <td>5.2</td>\n        <td>4.5</td>\n        <td>26.2</td>\n        <td>7.5</td>\n        <td>0.3</td>\n    </tr>\n    <tr>\n        <td>5</td>\n        <td>6.0</td>\n        <td>Lake View</td>\n        <td>5.0</td>\n        <td>60058</td>\n        <td>4.7</td>\n        <td>2.6</td>\n        <td>17.0</td>\n        <td>11.4</td>\n        <td>1.1</td>\n    </tr>\n    <tr>\n        <td>6</td>\n        <td>7.0</td>\n        <td>Lincoln Park</td>\n        <td>2.0</td>\n        <td>71551</td>\n        <td>5.1</td>\n        <td>3.6</td>\n        <td>21.5</td>\n        <td>12.3</td>\n        <td>0.8</td>\n    </tr>\n    <tr>\n        <td>7</td>\n        <td>8.0</td>\n        <td>Near North Side</td>\n        <td>1.0</td>\n        <td>88669</td>\n        <td>7.0</td>\n        <td>2.5</td>\n        <td>22.6</td>\n        <td>12.9</td>\n        <td>1.9</td>\n    </tr>\n    <tr>\n        <td>8</td>\n        <td>9.0</td>\n        <td>Edison Park</td>\n        <td>8.0</td>\n        <td>40959</td>\n        <td>6.5</td>\n        <td>7.4</td>\n        <td>35.3</td>\n        <td>3.3</td>\n        <td>1.1</td>\n    </tr>\n    <tr>\n        <td>9</td>\n        <td>10.0</td>\n        <td>Norwood Park</td>\n        <td>21.0</td>\n        <td>32875</td>\n        <td>9.0</td>\n        <td>11.5</td>\n        <td>39.5</td>\n        <td>5.4</td>\n        <td>2.0</td>\n    </tr>\n</table>", 
                        "text/plain": "[(0, 1.0, 'Rogers Park', 39.0, 23939, 8.7, 18.2, 27.5, 23.6, 7.7),\n (1, 2.0, 'West Ridge', 46.0, 23040, 8.8, 20.8, 38.5, 17.2, 7.8),\n (2, 3.0, 'Uptown', 20.0, 35787, 8.9, 11.8, 22.2, 24.0, 3.8),\n (3, 4.0, 'Lincoln Square', 17.0, 37524, 8.2, 13.4, 25.5, 10.9, 3.4),\n (4, 5.0, 'North Center', 6.0, 57123, 5.2, 4.5, 26.2, 7.5, 0.3),\n (5, 6.0, 'Lake View', 5.0, 60058, 4.7, 2.6, 17.0, 11.4, 1.1),\n (6, 7.0, 'Lincoln Park', 2.0, 71551, 5.1, 3.6, 21.5, 12.3, 0.8),\n (7, 8.0, 'Near North Side', 1.0, 88669, 7.0, 2.5, 22.6, 12.9, 1.9),\n (8, 9.0, 'Edison Park', 8.0, 40959, 6.5, 7.4, 35.3, 3.3, 1.1),\n (9, 10.0, 'Norwood Park', 21.0, 32875, 9.0, 11.5, 39.5, 5.4, 2.0)]"
                    }, 
                    "output_type": "execute_result"
                }
            ], 
            "source": "%sql SELECT * FROM chicago_socioeconomic_data LIMIT 10;"
        }, 
        {
            "execution_count": 29, 
            "cell_type": "code", 
            "metadata": {}, 
            "outputs": [
                {
                    "output_type": "stream", 
                    "name": "stdout", 
                    "text": " * ibm_db_sa://hpf03826:***@dashdb-txn-sbox-yp-dal09-04.services.dal.bluemix.net:50000/BLUDB\nDone.\n"
                }, 
                {
                    "execution_count": 29, 
                    "metadata": {}, 
                    "data": {
                        "text/html": "<table>\n    <tr>\n        <th>total</th>\n    </tr>\n    <tr>\n        <td>78</td>\n    </tr>\n</table>", 
                        "text/plain": "[(Decimal('78'),)]"
                    }, 
                    "output_type": "execute_result"
                }
            ], 
            "source": "%sql SELECT COUNT(*) Total FROM chicago_socioeconomic_data;"
        }, 
        {
            "execution_count": 30, 
            "cell_type": "code", 
            "metadata": {}, 
            "outputs": [
                {
                    "output_type": "stream", 
                    "name": "stdout", 
                    "text": " * ibm_db_sa://hpf03826:***@dashdb-txn-sbox-yp-dal09-04.services.dal.bluemix.net:50000/BLUDB\nDone.\n"
                }, 
                {
                    "execution_count": 30, 
                    "metadata": {}, 
                    "data": {
                        "text/html": "<table>\n    <tr>\n        <th>high_hardship_total</th>\n    </tr>\n    <tr>\n        <td>38</td>\n    </tr>\n</table>", 
                        "text/plain": "[(Decimal('38'),)]"
                    }, 
                    "output_type": "execute_result"
                }
            ], 
            "source": "%sql SELECT COUNT(*) High_hardship_total FROM chicago_socioeconomic_data WHERE hardship_index > 50.0;"
        }, 
        {
            "execution_count": 31, 
            "cell_type": "code", 
            "metadata": {}, 
            "outputs": [
                {
                    "output_type": "stream", 
                    "name": "stdout", 
                    "text": " * ibm_db_sa://hpf03826:***@dashdb-txn-sbox-yp-dal09-04.services.dal.bluemix.net:50000/BLUDB\nDone.\n"
                }, 
                {
                    "execution_count": 31, 
                    "metadata": {}, 
                    "data": {
                        "text/html": "<table>\n    <tr>\n        <th>max_hardship</th>\n    </tr>\n    <tr>\n        <td>98.0</td>\n    </tr>\n</table>", 
                        "text/plain": "[(98.0,)]"
                    }, 
                    "output_type": "execute_result"
                }
            ], 
            "source": "%sql SELECT MAX(hardship_index) Max_hardship FROM chicago_socioeconomic_data;"
        }, 
        {
            "execution_count": 32, 
            "cell_type": "code", 
            "metadata": {}, 
            "outputs": [
                {
                    "output_type": "stream", 
                    "name": "stdout", 
                    "text": " * ibm_db_sa://hpf03826:***@dashdb-txn-sbox-yp-dal09-04.services.dal.bluemix.net:50000/BLUDB\nDone.\n"
                }, 
                {
                    "execution_count": 32, 
                    "metadata": {}, 
                    "data": {
                        "text/html": "<table>\n    <tr>\n        <th>community_area_name</th>\n    </tr>\n    <tr>\n        <td>Riverdale</td>\n    </tr>\n</table>", 
                        "text/plain": "[('Riverdale',)]"
                    }, 
                    "output_type": "execute_result"
                }
            ], 
            "source": "%sql SELECT community_area_name FROM chicago_socioeconomic_data ORDER BY hardship_index DESC nulls last LIMIT 1;"
        }, 
        {
            "execution_count": 33, 
            "cell_type": "code", 
            "metadata": {}, 
            "outputs": [
                {
                    "output_type": "stream", 
                    "name": "stdout", 
                    "text": " * ibm_db_sa://hpf03826:***@dashdb-txn-sbox-yp-dal09-04.services.dal.bluemix.net:50000/BLUDB\nDone.\n"
                }, 
                {
                    "execution_count": 33, 
                    "metadata": {}, 
                    "data": {
                        "text/html": "<table>\n    <tr>\n        <th>community_area_name</th>\n    </tr>\n    <tr>\n        <td>Riverdale</td>\n    </tr>\n</table>", 
                        "text/plain": "[('Riverdale',)]"
                    }, 
                    "output_type": "execute_result"
                }
            ], 
            "source": "%sql SELECT community_area_name FROM chicago_socioeconomic_data where hardship_index=98.0"
        }, 
        {
            "execution_count": 34, 
            "cell_type": "code", 
            "metadata": {}, 
            "outputs": [
                {
                    "output_type": "stream", 
                    "name": "stdout", 
                    "text": " * ibm_db_sa://hpf03826:***@dashdb-txn-sbox-yp-dal09-04.services.dal.bluemix.net:50000/BLUDB\nDone.\n"
                }, 
                {
                    "execution_count": 34, 
                    "metadata": {}, 
                    "data": {
                        "text/html": "<table>\n    <tr>\n        <th>community_area_name</th>\n    </tr>\n    <tr>\n        <td>Lake View</td>\n    </tr>\n    <tr>\n        <td>Lincoln Park</td>\n    </tr>\n    <tr>\n        <td>Near North Side</td>\n    </tr>\n    <tr>\n        <td>Loop</td>\n    </tr>\n</table>", 
                        "text/plain": "[('Lake View',), ('Lincoln Park',), ('Near North Side',), ('Loop',)]"
                    }, 
                    "output_type": "execute_result"
                }
            ], 
            "source": "%sql SELECT community_area_name FROM chicago_socioeconomic_data WHERE per_capita_income_>60000;"
        }, 
        {
            "execution_count": 35, 
            "cell_type": "code", 
            "metadata": {}, 
            "outputs": [
                {
                    "output_type": "stream", 
                    "name": "stdout", 
                    "text": " * ibm_db_sa://hpf03826:***@dashdb-txn-sbox-yp-dal09-04.services.dal.bluemix.net:50000/BLUDB\nDone.\n"
                }, 
                {
                    "output_type": "display_data", 
                    "data": {
                        "image/png": "[encoded data removed]", 
                        "text/plain": "<matplotlib.figure.Figure at 0x7fa6b4d7ab00>"
                    }, 
                    "metadata": {}
                }
            ], 
            "source": "import matplotlib.pyplot as plt\n%matplotlib inline\nimport seaborn as sns\n\nincome_vs_hardship = %sql SELECT per_capita_income_, hardship_index FROM chicago_socioeconomic_data;\nplot = sns.jointplot(x='per_capita_income_',y='hardship_index', data=income_vs_hardship.DataFrame())"
        }, 
        {
            "execution_count": 36, 
            "cell_type": "code", 
            "metadata": {}, 
            "outputs": [
                {
                    "output_type": "stream", 
                    "name": "stdout", 
                    "text": " * ibm_db_sa://hpf03826:***@dashdb-txn-sbox-yp-dal09-04.services.dal.bluemix.net:50000/BLUDB\nDone.\n"
                }, 
                {
                    "execution_count": 36, 
                    "metadata": {}, 
                    "data": {
                        "text/html": "<table>\n    <tr>\n        <th>tabschema</th>\n        <th>tabname</th>\n        <th>owner</th>\n        <th>ownertype</th>\n        <th>TYPE</th>\n        <th>status</th>\n        <th>base_tabschema</th>\n        <th>base_tabname</th>\n        <th>rowtypeschema</th>\n        <th>rowtypename</th>\n        <th>create_time</th>\n        <th>alter_time</th>\n        <th>invalidate_time</th>\n        <th>stats_time</th>\n        <th>colcount</th>\n        <th>tableid</th>\n        <th>tbspaceid</th>\n        <th>card</th>\n        <th>npages</th>\n        <th>mpages</th>\n        <th>fpages</th>\n        <th>npartitions</th>\n        <th>nfiles</th>\n        <th>tablesize</th>\n        <th>overflow</th>\n        <th>tbspace</th>\n        <th>index_tbspace</th>\n        <th>long_tbspace</th>\n        <th>parents</th>\n        <th>children</th>\n        <th>selfrefs</th>\n        <th>keycolumns</th>\n        <th>keyindexid</th>\n        <th>keyunique</th>\n        <th>checkcount</th>\n        <th>datacapture</th>\n        <th>const_checked</th>\n        <th>pmap_id</th>\n        <th>partition_mode</th>\n        <th>log_attribute</th>\n        <th>pctfree</th>\n        <th>append_mode</th>\n        <th>REFRESH</th>\n        <th>refresh_time</th>\n        <th>LOCKSIZE</th>\n        <th>VOLATILE</th>\n        <th>row_format</th>\n        <th>property</th>\n        <th>statistics_profile</th>\n        <th>compression</th>\n        <th>rowcompmode</th>\n        <th>access_mode</th>\n        <th>clustered</th>\n        <th>active_blocks</th>\n        <th>droprule</th>\n        <th>maxfreespacesearch</th>\n        <th>avgcompressedrowsize</th>\n        <th>avgrowcompressionratio</th>\n        <th>avgrowsize</th>\n        <th>pctrowscompressed</th>\n        <th>logindexbuild</th>\n        <th>codepage</th>\n        <th>collationschema</th>\n        <th>collationname</th>\n        <th>collationschema_orderby</th>\n        <th>collationname_orderby</th>\n        <th>encoding_scheme</th>\n        <th>pctpagessaved</th>\n        <th>last_regen_time</th>\n        <th>secpolicyid</th>\n        <th>protectiongranularity</th>\n        <th>auditpolicyid</th>\n        <th>auditpolicyname</th>\n        <th>auditexceptionenabled</th>\n        <th>definer</th>\n        <th>oncommit</th>\n        <th>logged</th>\n        <th>onrollback</th>\n        <th>lastused</th>\n        <th>control</th>\n        <th>temporaltype</th>\n        <th>tableorg</th>\n        <th>extended_row_size</th>\n        <th>pctextendedrows</th>\n        <th>remarks</th>\n    </tr>\n    <tr>\n        <td>HPF03826</td>\n        <td>SCHOOLS</td>\n        <td>HPF03826</td>\n        <td>U</td>\n        <td>T</td>\n        <td>N</td>\n        <td>None</td>\n        <td>None</td>\n        <td>None</td>\n        <td>None</td>\n        <td>2018-09-02 23:10:32.208928</td>\n        <td>2018-09-02 23:10:32.208928</td>\n        <td>2018-09-02 23:10:32.208928</td>\n        <td>2018-09-02 23:20:23.519409</td>\n        <td>79</td>\n        <td>12</td>\n        <td>864</td>\n        <td>566</td>\n        <td>15</td>\n        <td>0</td>\n        <td>16</td>\n        <td>-1</td>\n        <td>-1</td>\n        <td>-1</td>\n        <td>0</td>\n        <td>hpf03826space1</td>\n        <td>None</td>\n        <td>None</td>\n        <td>0</td>\n        <td>0</td>\n        <td>0</td>\n        <td>0</td>\n        <td>0</td>\n        <td>0</td>\n        <td>0</td>\n        <td>N</td>\n        <td>YYYYYYYYYYYYYYYYYYYYYYYYYYYYYYYY</td>\n        <td>1</td>\n        <td> </td>\n        <td>0</td>\n        <td>-1</td>\n        <td>N</td>\n        <td> </td>\n        <td>None</td>\n        <td>R</td>\n        <td> </td>\n        <td>N</td>\n        <td>&nbsp;&nbsp;&nbsp;&nbsp;&nbsp;&nbsp;&nbsp;&nbsp;&nbsp;&nbsp;&nbsp;&nbsp;&nbsp;&nbsp;&nbsp;&nbsp;&nbsp;&nbsp;&nbsp;&nbsp;&nbsp;&nbsp;&nbsp;&nbsp;&nbsp;&nbsp;&nbsp;&nbsp;&nbsp;&nbsp;&nbsp;&nbsp;</td>\n        <td>None</td>\n        <td>N</td>\n        <td> </td>\n        <td>F</td>\n        <td>None</td>\n        <td>0</td>\n        <td>N</td>\n        <td>999</td>\n        <td>0</td>\n        <td>0.0</td>\n        <td>850</td>\n        <td>0.0</td>\n        <td>None</td>\n        <td>1208</td>\n        <td>SYSIBM</td>\n        <td>IDENTITY</td>\n        <td>SYSIBM</td>\n        <td>IDENTITY</td>\n        <td> </td>\n        <td>0</td>\n        <td>2018-09-02 23:10:32.208928</td>\n        <td>0</td>\n        <td> </td>\n        <td>None</td>\n        <td>None</td>\n        <td>N</td>\n        <td>HPF03826</td>\n        <td> </td>\n        <td> </td>\n        <td> </td>\n        <td>2018-09-02</td>\n        <td> </td>\n        <td>N</td>\n        <td>R</td>\n        <td>N</td>\n        <td>-1.0</td>\n        <td>None</td>\n    </tr>\n</table>", 
                        "text/plain": "[('HPF03826', 'SCHOOLS', 'HPF03826', 'U', 'T', 'N', None, None, None, None, datetime.datetime(2018, 9, 2, 23, 10, 32, 208928), datetime.datetime(2018, 9, 2, 23, 10, 32, 208928), datetime.datetime(2018, 9, 2, 23, 10, 32, 208928), datetime.datetime(2018, 9, 2, 23, 20, 23, 519409), 79, 12, 864, 566, 15, 0, 16, -1, -1, -1, 0, 'hpf03826space1', None, None, 0, 0, 0, 0, 0, 0, 0, 'N', 'YYYYYYYYYYYYYYYYYYYYYYYYYYYYYYYY', 1, ' ', '0', -1, 'N', ' ', None, 'R', ' ', 'N', '                                ', None, 'N', ' ', 'F', None, 0, 'N', 999, 0, 0.0, 850, 0.0, None, 1208, 'SYSIBM', 'IDENTITY', 'SYSIBM', 'IDENTITY', ' ', 0, datetime.datetime(2018, 9, 2, 23, 10, 32, 208928), 0, ' ', None, None, 'N', 'HPF03826', ' ', ' ', ' ', datetime.date(2018, 9, 2), ' ', 'N', 'R', 'N', -1.0, None)]"
                    }, 
                    "output_type": "execute_result"
                }
            ], 
            "source": "%sql select * from SYSCAT.TABLES where TABNAME = 'SCHOOLS'"
        }, 
        {
            "execution_count": 37, 
            "cell_type": "code", 
            "metadata": {}, 
            "outputs": [
                {
                    "output_type": "stream", 
                    "name": "stdout", 
                    "text": " * ibm_db_sa://hpf03826:***@dashdb-txn-sbox-yp-dal09-04.services.dal.bluemix.net:50000/BLUDB\nDone.\n"
                }, 
                {
                    "execution_count": 37, 
                    "metadata": {}, 
                    "data": {
                        "text/html": "<table>\n    <tr>\n        <th>tabschema</th>\n        <th>tabname</th>\n        <th>create_time</th>\n    </tr>\n</table>", 
                        "text/plain": "[]"
                    }, 
                    "output_type": "execute_result"
                }
            ], 
            "source": "%sql select TABSCHEMA, TABNAME, CREATE_TIME from SYSCAT.TABLES where TABSCHEMA = 'hpf03826'"
        }, 
        {
            "execution_count": 38, 
            "cell_type": "code", 
            "metadata": {}, 
            "outputs": [
                {
                    "output_type": "stream", 
                    "name": "stdout", 
                    "text": " * ibm_db_sa://hpf03826:***@dashdb-txn-sbox-yp-dal09-04.services.dal.bluemix.net:50000/BLUDB\nDone.\n"
                }, 
                {
                    "execution_count": 38, 
                    "metadata": {}, 
                    "data": {
                        "text/html": "<table>\n    <tr>\n        <th>num_of_columns</th>\n    </tr>\n    <tr>\n        <td>79</td>\n    </tr>\n</table>", 
                        "text/plain": "[(Decimal('79'),)]"
                    }, 
                    "output_type": "execute_result"
                }
            ], 
            "source": "# count the number of columns\n\n%sql select count(*) num_of_columns from SYSCAT.COLUMNS where TABNAME = 'SCHOOLS'"
        }, 
        {
            "execution_count": 39, 
            "cell_type": "code", 
            "metadata": {}, 
            "outputs": [
                {
                    "output_type": "stream", 
                    "name": "stdout", 
                    "text": " * ibm_db_sa://hpf03826:***@dashdb-txn-sbox-yp-dal09-04.services.dal.bluemix.net:50000/BLUDB\nDone.\n"
                }, 
                {
                    "execution_count": 39, 
                    "metadata": {}, 
                    "data": {
                        "text/html": "<table>\n    <tr>\n        <th>colname</th>\n        <th>typename</th>\n        <th>length</th>\n    </tr>\n    <tr>\n        <td>School_ID</td>\n        <td>INTEGER</td>\n        <td>4</td>\n    </tr>\n    <tr>\n        <td>Name_of_School</td>\n        <td>VARCHAR</td>\n        <td>65</td>\n    </tr>\n    <tr>\n        <td>Elementary, Middle, or High School</td>\n        <td>VARCHAR</td>\n        <td>2</td>\n    </tr>\n    <tr>\n        <td>Street_Address</td>\n        <td>VARCHAR</td>\n        <td>30</td>\n    </tr>\n    <tr>\n        <td>City</td>\n        <td>VARCHAR</td>\n        <td>7</td>\n    </tr>\n    <tr>\n        <td>State</td>\n        <td>VARCHAR</td>\n        <td>2</td>\n    </tr>\n    <tr>\n        <td>ZIP_Code</td>\n        <td>INTEGER</td>\n        <td>4</td>\n    </tr>\n    <tr>\n        <td>Phone_Number</td>\n        <td>VARCHAR</td>\n        <td>14</td>\n    </tr>\n    <tr>\n        <td>Link</td>\n        <td>VARCHAR</td>\n        <td>78</td>\n    </tr>\n    <tr>\n        <td>Network_Manager</td>\n        <td>VARCHAR</td>\n        <td>40</td>\n    </tr>\n    <tr>\n        <td>Collaborative_Name</td>\n        <td>VARCHAR</td>\n        <td>34</td>\n    </tr>\n    <tr>\n        <td>Adequate_Yearly_Progress_Made_</td>\n        <td>VARCHAR</td>\n        <td>3</td>\n    </tr>\n    <tr>\n        <td>Track_Schedule</td>\n        <td>VARCHAR</td>\n        <td>12</td>\n    </tr>\n    <tr>\n        <td>CPS_Performance_Policy_Status</td>\n        <td>VARCHAR</td>\n        <td>16</td>\n    </tr>\n    <tr>\n        <td>CPS_Performance_Policy_Level</td>\n        <td>VARCHAR</td>\n        <td>15</td>\n    </tr>\n    <tr>\n        <td>Healthy_Schools_Certified_</td>\n        <td>VARCHAR</td>\n        <td>3</td>\n    </tr>\n    <tr>\n        <td>Safety_Icon</td>\n        <td>VARCHAR</td>\n        <td>11</td>\n    </tr>\n    <tr>\n        <td>Safety_Score</td>\n        <td>SMALLINT</td>\n        <td>2</td>\n    </tr>\n    <tr>\n        <td>Family_Involvement_Icon</td>\n        <td>VARCHAR</td>\n        <td>11</td>\n    </tr>\n    <tr>\n        <td>Family_Involvement_Score</td>\n        <td>VARCHAR</td>\n        <td>3</td>\n    </tr>\n    <tr>\n        <td>Environment_Icon</td>\n        <td>VARCHAR</td>\n        <td>11</td>\n    </tr>\n    <tr>\n        <td>Environment_Score</td>\n        <td>SMALLINT</td>\n        <td>2</td>\n    </tr>\n    <tr>\n        <td>Instruction_Icon</td>\n        <td>VARCHAR</td>\n        <td>11</td>\n    </tr>\n    <tr>\n        <td>Instruction_Score</td>\n        <td>SMALLINT</td>\n        <td>2</td>\n    </tr>\n    <tr>\n        <td>Leaders_Icon</td>\n        <td>VARCHAR</td>\n        <td>11</td>\n    </tr>\n    <tr>\n        <td>Leaders_Score</td>\n        <td>VARCHAR</td>\n        <td>3</td>\n    </tr>\n    <tr>\n        <td>Teachers_Icon</td>\n        <td>VARCHAR</td>\n        <td>11</td>\n    </tr>\n    <tr>\n        <td>Teachers_Score</td>\n        <td>VARCHAR</td>\n        <td>3</td>\n    </tr>\n    <tr>\n        <td>Parent_Engagement_Icon</td>\n        <td>VARCHAR</td>\n        <td>7</td>\n    </tr>\n    <tr>\n        <td>Parent_Engagement_Score</td>\n        <td>VARCHAR</td>\n        <td>3</td>\n    </tr>\n    <tr>\n        <td>Parent_Environment_Icon</td>\n        <td>VARCHAR</td>\n        <td>7</td>\n    </tr>\n    <tr>\n        <td>Parent_Environment_Score</td>\n        <td>VARCHAR</td>\n        <td>3</td>\n    </tr>\n    <tr>\n        <td>Average_Student_Attendance</td>\n        <td>VARCHAR</td>\n        <td>5</td>\n    </tr>\n    <tr>\n        <td>Rate_of_Misconducts__per_100_students_</td>\n        <td>DECIMAL</td>\n        <td>5</td>\n    </tr>\n    <tr>\n        <td>Average_Teacher_Attendance</td>\n        <td>VARCHAR</td>\n        <td>5</td>\n    </tr>\n    <tr>\n        <td>Individualized_Education_Program_Compliance_Rate</td>\n        <td>VARCHAR</td>\n        <td>6</td>\n    </tr>\n    <tr>\n        <td>Pk_2_Literacy__</td>\n        <td>VARCHAR</td>\n        <td>4</td>\n    </tr>\n    <tr>\n        <td>Pk_2_Math__</td>\n        <td>VARCHAR</td>\n        <td>4</td>\n    </tr>\n    <tr>\n        <td>Gr3_5_Grade_Level_Math__</td>\n        <td>VARCHAR</td>\n        <td>4</td>\n    </tr>\n    <tr>\n        <td>Gr3_5_Grade_Level_Read__</td>\n        <td>VARCHAR</td>\n        <td>4</td>\n    </tr>\n    <tr>\n        <td>Gr3_5_Keep_Pace_Read__</td>\n        <td>VARCHAR</td>\n        <td>4</td>\n    </tr>\n    <tr>\n        <td>Gr3_5_Keep_Pace_Math__</td>\n        <td>VARCHAR</td>\n        <td>4</td>\n    </tr>\n    <tr>\n        <td>Gr6_8_Grade_Level_Math__</td>\n        <td>VARCHAR</td>\n        <td>4</td>\n    </tr>\n    <tr>\n        <td>Gr6_8_Grade_Level_Read__</td>\n        <td>VARCHAR</td>\n        <td>4</td>\n    </tr>\n    <tr>\n        <td>Gr6_8_Keep_Pace_Math_</td>\n        <td>VARCHAR</td>\n        <td>4</td>\n    </tr>\n    <tr>\n        <td>Gr6_8_Keep_Pace_Read__</td>\n        <td>VARCHAR</td>\n        <td>4</td>\n    </tr>\n    <tr>\n        <td>Gr_8_Explore_Math__</td>\n        <td>VARCHAR</td>\n        <td>4</td>\n    </tr>\n    <tr>\n        <td>Gr_8_Explore_Read__</td>\n        <td>VARCHAR</td>\n        <td>4</td>\n    </tr>\n    <tr>\n        <td>ISAT_Exceeding_Math__</td>\n        <td>DECIMAL</td>\n        <td>4</td>\n    </tr>\n    <tr>\n        <td>ISAT_Exceeding_Reading__</td>\n        <td>DECIMAL</td>\n        <td>4</td>\n    </tr>\n    <tr>\n        <td>ISAT_Value_Add_Math</td>\n        <td>DECIMAL</td>\n        <td>3</td>\n    </tr>\n    <tr>\n        <td>ISAT_Value_Add_Read</td>\n        <td>DECIMAL</td>\n        <td>3</td>\n    </tr>\n    <tr>\n        <td>ISAT_Value_Add_Color_Math</td>\n        <td>VARCHAR</td>\n        <td>6</td>\n    </tr>\n    <tr>\n        <td>ISAT_Value_Add_Color_Read</td>\n        <td>VARCHAR</td>\n        <td>6</td>\n    </tr>\n    <tr>\n        <td>Students_Taking__Algebra__</td>\n        <td>VARCHAR</td>\n        <td>4</td>\n    </tr>\n    <tr>\n        <td>Students_Passing__Algebra__</td>\n        <td>VARCHAR</td>\n        <td>4</td>\n    </tr>\n    <tr>\n        <td>9th Grade EXPLORE (2009)</td>\n        <td>VARCHAR</td>\n        <td>4</td>\n    </tr>\n    <tr>\n        <td>9th Grade EXPLORE (2010)</td>\n        <td>VARCHAR</td>\n        <td>4</td>\n    </tr>\n    <tr>\n        <td>10th Grade PLAN (2009)</td>\n        <td>VARCHAR</td>\n        <td>4</td>\n    </tr>\n    <tr>\n        <td>10th Grade PLAN (2010)</td>\n        <td>VARCHAR</td>\n        <td>4</td>\n    </tr>\n    <tr>\n        <td>Net_Change_EXPLORE_and_PLAN</td>\n        <td>VARCHAR</td>\n        <td>3</td>\n    </tr>\n    <tr>\n        <td>11th Grade Average ACT (2011)</td>\n        <td>VARCHAR</td>\n        <td>4</td>\n    </tr>\n    <tr>\n        <td>Net_Change_PLAN_and_ACT</td>\n        <td>VARCHAR</td>\n        <td>3</td>\n    </tr>\n    <tr>\n        <td>College_Eligibility__</td>\n        <td>VARCHAR</td>\n        <td>4</td>\n    </tr>\n    <tr>\n        <td>Graduation_Rate__</td>\n        <td>VARCHAR</td>\n        <td>4</td>\n    </tr>\n    <tr>\n        <td>College_Enrollment_Rate__</td>\n        <td>VARCHAR</td>\n        <td>4</td>\n    </tr>\n    <tr>\n        <td>College_Enrollment__number_of_students_</td>\n        <td>SMALLINT</td>\n        <td>2</td>\n    </tr>\n    <tr>\n        <td>General_Services_Route</td>\n        <td>SMALLINT</td>\n        <td>2</td>\n    </tr>\n    <tr>\n        <td>Freshman_on_Track_Rate__</td>\n        <td>VARCHAR</td>\n        <td>4</td>\n    </tr>\n    <tr>\n        <td>RCDTS_Code</td>\n        <td>BIGINT</td>\n        <td>8</td>\n    </tr>\n    <tr>\n        <td>X_COORDINATE</td>\n        <td>DECIMAL</td>\n        <td>13</td>\n    </tr>\n    <tr>\n        <td>Y_COORDINATE</td>\n        <td>DECIMAL</td>\n        <td>13</td>\n    </tr>\n    <tr>\n        <td>Latitude</td>\n        <td>DECIMAL</td>\n        <td>18</td>\n    </tr>\n    <tr>\n        <td>Longitude</td>\n        <td>DECIMAL</td>\n        <td>18</td>\n    </tr>\n    <tr>\n        <td>Community_Area_Number</td>\n        <td>SMALLINT</td>\n        <td>2</td>\n    </tr>\n    <tr>\n        <td>Community_Area_Name</td>\n        <td>VARCHAR</td>\n        <td>22</td>\n    </tr>\n    <tr>\n        <td>Ward</td>\n        <td>SMALLINT</td>\n        <td>2</td>\n    </tr>\n    <tr>\n        <td>Police_District</td>\n        <td>SMALLINT</td>\n        <td>2</td>\n    </tr>\n    <tr>\n        <td>Location</td>\n        <td>VARCHAR</td>\n        <td>27</td>\n    </tr>\n</table>", 
                        "text/plain": "[('School_ID', 'INTEGER', 4),\n ('Name_of_School', 'VARCHAR', 65),\n ('Elementary, Middle, or High School', 'VARCHAR', 2),\n ('Street_Address', 'VARCHAR', 30),\n ('City', 'VARCHAR', 7),\n ('State', 'VARCHAR', 2),\n ('ZIP_Code', 'INTEGER', 4),\n ('Phone_Number', 'VARCHAR', 14),\n ('Link', 'VARCHAR', 78),\n ('Network_Manager', 'VARCHAR', 40),\n ('Collaborative_Name', 'VARCHAR', 34),\n ('Adequate_Yearly_Progress_Made_', 'VARCHAR', 3),\n ('Track_Schedule', 'VARCHAR', 12),\n ('CPS_Performance_Policy_Status', 'VARCHAR', 16),\n ('CPS_Performance_Policy_Level', 'VARCHAR', 15),\n ('Healthy_Schools_Certified_', 'VARCHAR', 3),\n ('Safety_Icon', 'VARCHAR', 11),\n ('Safety_Score', 'SMALLINT', 2),\n ('Family_Involvement_Icon', 'VARCHAR', 11),\n ('Family_Involvement_Score', 'VARCHAR', 3),\n ('Environment_Icon', 'VARCHAR', 11),\n ('Environment_Score', 'SMALLINT', 2),\n ('Instruction_Icon', 'VARCHAR', 11),\n ('Instruction_Score', 'SMALLINT', 2),\n ('Leaders_Icon', 'VARCHAR', 11),\n ('Leaders_Score', 'VARCHAR', 3),\n ('Teachers_Icon', 'VARCHAR', 11),\n ('Teachers_Score', 'VARCHAR', 3),\n ('Parent_Engagement_Icon', 'VARCHAR', 7),\n ('Parent_Engagement_Score', 'VARCHAR', 3),\n ('Parent_Environment_Icon', 'VARCHAR', 7),\n ('Parent_Environment_Score', 'VARCHAR', 3),\n ('Average_Student_Attendance', 'VARCHAR', 5),\n ('Rate_of_Misconducts__per_100_students_', 'DECIMAL', 5),\n ('Average_Teacher_Attendance', 'VARCHAR', 5),\n ('Individualized_Education_Program_Compliance_Rate', 'VARCHAR', 6),\n ('Pk_2_Literacy__', 'VARCHAR', 4),\n ('Pk_2_Math__', 'VARCHAR', 4),\n ('Gr3_5_Grade_Level_Math__', 'VARCHAR', 4),\n ('Gr3_5_Grade_Level_Read__', 'VARCHAR', 4),\n ('Gr3_5_Keep_Pace_Read__', 'VARCHAR', 4),\n ('Gr3_5_Keep_Pace_Math__', 'VARCHAR', 4),\n ('Gr6_8_Grade_Level_Math__', 'VARCHAR', 4),\n ('Gr6_8_Grade_Level_Read__', 'VARCHAR', 4),\n ('Gr6_8_Keep_Pace_Math_', 'VARCHAR', 4),\n ('Gr6_8_Keep_Pace_Read__', 'VARCHAR', 4),\n ('Gr_8_Explore_Math__', 'VARCHAR', 4),\n ('Gr_8_Explore_Read__', 'VARCHAR', 4),\n ('ISAT_Exceeding_Math__', 'DECIMAL', 4),\n ('ISAT_Exceeding_Reading__', 'DECIMAL', 4),\n ('ISAT_Value_Add_Math', 'DECIMAL', 3),\n ('ISAT_Value_Add_Read', 'DECIMAL', 3),\n ('ISAT_Value_Add_Color_Math', 'VARCHAR', 6),\n ('ISAT_Value_Add_Color_Read', 'VARCHAR', 6),\n ('Students_Taking__Algebra__', 'VARCHAR', 4),\n ('Students_Passing__Algebra__', 'VARCHAR', 4),\n ('9th Grade EXPLORE (2009)', 'VARCHAR', 4),\n ('9th Grade EXPLORE (2010)', 'VARCHAR', 4),\n ('10th Grade PLAN (2009)', 'VARCHAR', 4),\n ('10th Grade PLAN (2010)', 'VARCHAR', 4),\n ('Net_Change_EXPLORE_and_PLAN', 'VARCHAR', 3),\n ('11th Grade Average ACT (2011)', 'VARCHAR', 4),\n ('Net_Change_PLAN_and_ACT', 'VARCHAR', 3),\n ('College_Eligibility__', 'VARCHAR', 4),\n ('Graduation_Rate__', 'VARCHAR', 4),\n ('College_Enrollment_Rate__', 'VARCHAR', 4),\n ('College_Enrollment__number_of_students_', 'SMALLINT', 2),\n ('General_Services_Route', 'SMALLINT', 2),\n ('Freshman_on_Track_Rate__', 'VARCHAR', 4),\n ('RCDTS_Code', 'BIGINT', 8),\n ('X_COORDINATE', 'DECIMAL', 13),\n ('Y_COORDINATE', 'DECIMAL', 13),\n ('Latitude', 'DECIMAL', 18),\n ('Longitude', 'DECIMAL', 18),\n ('Community_Area_Number', 'SMALLINT', 2),\n ('Community_Area_Name', 'VARCHAR', 22),\n ('Ward', 'SMALLINT', 2),\n ('Police_District', 'SMALLINT', 2),\n ('Location', 'VARCHAR', 27)]"
                    }, 
                    "output_type": "execute_result"
                }
            ], 
            "source": "# retrieve column names, datatype, and length\n%sql select COLNAME, TYPENAME, LENGTH from SYSCAT.COLUMNS where TABNAME = 'SCHOOLS'"
        }, 
        {
            "execution_count": 40, 
            "cell_type": "code", 
            "metadata": {}, 
            "outputs": [
                {
                    "output_type": "stream", 
                    "name": "stdout", 
                    "text": " * ibm_db_sa://hpf03826:***@dashdb-txn-sbox-yp-dal09-04.services.dal.bluemix.net:50000/BLUDB\nDone.\n"
                }, 
                {
                    "execution_count": 40, 
                    "metadata": {}, 
                    "data": {
                        "text/html": "<table>\n    <tr>\n        <th>colname</th>\n        <th>typename</th>\n        <th>length</th>\n    </tr>\n    <tr>\n        <td>COMMUNITY_AREA_NAME</td>\n        <td>VARCHAR</td>\n        <td>22</td>\n    </tr>\n    <tr>\n        <td>PERCENT_OF_HOUSING_CROWDED</td>\n        <td>DECIMAL</td>\n        <td>4</td>\n    </tr>\n    <tr>\n        <td>PERCENT_HOUSEHOLDS_BELOW_POVERTY</td>\n        <td>DECIMAL</td>\n        <td>4</td>\n    </tr>\n    <tr>\n        <td>PERCENT_AGED_16__UNEMPLOYED</td>\n        <td>DECIMAL</td>\n        <td>4</td>\n    </tr>\n    <tr>\n        <td>PERCENT_AGED_25__WITHOUT_HIGH_SCHOOL_DIPLOMA</td>\n        <td>DECIMAL</td>\n        <td>4</td>\n    </tr>\n    <tr>\n        <td>PERCENT_AGED_UNDER_18_OR_OVER_64</td>\n        <td>DECIMAL</td>\n        <td>4</td>\n    </tr>\n    <tr>\n        <td>PER_CAPITA_INCOME</td>\n        <td>INTEGER</td>\n        <td>4</td>\n    </tr>\n    <tr>\n        <td>HARDSHIP_INDEX</td>\n        <td>SMALLINT</td>\n        <td>2</td>\n    </tr>\n    <tr>\n        <td>Community_Area_Number</td>\n        <td>SMALLINT</td>\n        <td>2</td>\n    </tr>\n</table>", 
                        "text/plain": "[('COMMUNITY_AREA_NAME', 'VARCHAR', 22),\n ('PERCENT_OF_HOUSING_CROWDED', 'DECIMAL', 4),\n ('PERCENT_HOUSEHOLDS_BELOW_POVERTY', 'DECIMAL', 4),\n ('PERCENT_AGED_16__UNEMPLOYED', 'DECIMAL', 4),\n ('PERCENT_AGED_25__WITHOUT_HIGH_SCHOOL_DIPLOMA', 'DECIMAL', 4),\n ('PERCENT_AGED_UNDER_18_OR_OVER_64', 'DECIMAL', 4),\n ('PER_CAPITA_INCOME', 'INTEGER', 4),\n ('HARDSHIP_INDEX', 'SMALLINT', 2),\n ('Community_Area_Number', 'SMALLINT', 2)]"
                    }, 
                    "output_type": "execute_result"
                }
            ], 
            "source": "%sql select COLNAME, TYPENAME, LENGTH from SYSCAT.COLUMNS where TABNAME = 'CENSUS_DATA'"
        }, 
        {
            "execution_count": 41, 
            "cell_type": "code", 
            "metadata": {}, 
            "outputs": [
                {
                    "output_type": "stream", 
                    "name": "stdout", 
                    "text": " * ibm_db_sa://hpf03826:***@dashdb-txn-sbox-yp-dal09-04.services.dal.bluemix.net:50000/BLUDB\nDone.\n"
                }, 
                {
                    "execution_count": 41, 
                    "metadata": {}, 
                    "data": {
                        "text/html": "<table>\n    <tr>\n        <th>total_num_of_es</th>\n    </tr>\n    <tr>\n        <td>462</td>\n    </tr>\n</table>", 
                        "text/plain": "[(Decimal('462'),)]"
                    }, 
                    "output_type": "execute_result"
                }
            ], 
            "source": "# how many elementary schools\n%sql select count(*) Total_num_of_ES from SCHOOLS where \"Elementary, Middle, or High School\" = 'ES'"
        }, 
        {
            "execution_count": 42, 
            "cell_type": "code", 
            "metadata": {}, 
            "outputs": [
                {
                    "output_type": "stream", 
                    "name": "stdout", 
                    "text": " * ibm_db_sa://hpf03826:***@dashdb-txn-sbox-yp-dal09-04.services.dal.bluemix.net:50000/BLUDB\nDone.\n"
                }, 
                {
                    "execution_count": 42, 
                    "metadata": {}, 
                    "data": {
                        "text/html": "<table>\n    <tr>\n        <th>max_safety_score</th>\n    </tr>\n    <tr>\n        <td>99</td>\n    </tr>\n</table>", 
                        "text/plain": "[(99,)]"
                    }, 
                    "output_type": "execute_result"
                }
            ], 
            "source": "# What is the highest safefy score?\n%sql SELECT MAX(\"Safety_Score\") MAX_SAFETY_SCORE FROM SCHOOLS"
        }, 
        {
            "execution_count": 43, 
            "cell_type": "code", 
            "metadata": {}, 
            "outputs": [
                {
                    "output_type": "stream", 
                    "name": "stdout", 
                    "text": " * ibm_db_sa://hpf03826:***@dashdb-txn-sbox-yp-dal09-04.services.dal.bluemix.net:50000/BLUDB\nDone.\n"
                }, 
                {
                    "execution_count": 43, 
                    "metadata": {}, 
                    "data": {
                        "text/html": "<table>\n    <tr>\n        <th>Name_of_School</th>\n        <th>Safety_Score</th>\n    </tr>\n    <tr>\n        <td>Abraham Lincoln Elementary School</td>\n        <td>99</td>\n    </tr>\n    <tr>\n        <td>Alexander Graham Bell Elementary School</td>\n        <td>99</td>\n    </tr>\n    <tr>\n        <td>Annie Keller Elementary Gifted Magnet School</td>\n        <td>99</td>\n    </tr>\n    <tr>\n        <td>Augustus H Burley Elementary School</td>\n        <td>99</td>\n    </tr>\n    <tr>\n        <td>Edgar Allan Poe Elementary Classical School</td>\n        <td>99</td>\n    </tr>\n    <tr>\n        <td>Edgebrook Elementary School</td>\n        <td>99</td>\n    </tr>\n    <tr>\n        <td>Ellen Mitchell Elementary School</td>\n        <td>99</td>\n    </tr>\n    <tr>\n        <td>James E McDade Elementary Classical School</td>\n        <td>99</td>\n    </tr>\n    <tr>\n        <td>James G Blaine Elementary School</td>\n        <td>99</td>\n    </tr>\n    <tr>\n        <td>LaSalle Elementary Language Academy</td>\n        <td>99</td>\n    </tr>\n    <tr>\n        <td>Mary E Courtenay Elementary Language Arts Center</td>\n        <td>99</td>\n    </tr>\n    <tr>\n        <td>Northside College Preparatory High School</td>\n        <td>99</td>\n    </tr>\n    <tr>\n        <td>Northside Learning Center High School</td>\n        <td>99</td>\n    </tr>\n    <tr>\n        <td>Norwood Park Elementary School</td>\n        <td>99</td>\n    </tr>\n    <tr>\n        <td>Oriole Park Elementary School</td>\n        <td>99</td>\n    </tr>\n    <tr>\n        <td>Sauganash Elementary School</td>\n        <td>99</td>\n    </tr>\n    <tr>\n        <td>Stephen Decatur Classical Elementary School</td>\n        <td>99</td>\n    </tr>\n    <tr>\n        <td>Talman Elementary School</td>\n        <td>99</td>\n    </tr>\n    <tr>\n        <td>Wildwood Elementary School</td>\n        <td>99</td>\n    </tr>\n</table>", 
                        "text/plain": "[('Abraham Lincoln Elementary School', 99),\n ('Alexander Graham Bell Elementary School', 99),\n ('Annie Keller Elementary Gifted Magnet School', 99),\n ('Augustus H Burley Elementary School', 99),\n ('Edgar Allan Poe Elementary Classical School', 99),\n ('Edgebrook Elementary School', 99),\n ('Ellen Mitchell Elementary School', 99),\n ('James E McDade Elementary Classical School', 99),\n ('James G Blaine Elementary School', 99),\n ('LaSalle Elementary Language Academy', 99),\n ('Mary E Courtenay Elementary Language Arts Center', 99),\n ('Northside College Preparatory High School', 99),\n ('Northside Learning Center High School', 99),\n ('Norwood Park Elementary School', 99),\n ('Oriole Park Elementary School', 99),\n ('Sauganash Elementary School', 99),\n ('Stephen Decatur Classical Elementary School', 99),\n ('Talman Elementary School', 99),\n ('Wildwood Elementary School', 99)]"
                    }, 
                    "output_type": "execute_result"
                }
            ], 
            "source": "%sql SELECT \"Name_of_School\",\"Safety_Score\" FROM SCHOOLS WHERE \"Safety_Score\"=99;"
        }, 
        {
            "execution_count": 44, 
            "cell_type": "code", 
            "metadata": {}, 
            "outputs": [
                {
                    "output_type": "stream", 
                    "name": "stdout", 
                    "text": " * ibm_db_sa://hpf03826:***@dashdb-txn-sbox-yp-dal09-04.services.dal.bluemix.net:50000/BLUDB\nDone.\n"
                }, 
                {
                    "execution_count": 44, 
                    "metadata": {}, 
                    "data": {
                        "text/html": "<table>\n    <tr>\n        <th>Name_of_School</th>\n        <th>Average_Student_Attendance</th>\n    </tr>\n    <tr>\n        <td>John Charles Haines Elementary School</td>\n        <td>98.4%</td>\n    </tr>\n    <tr>\n        <td>James Ward Elementary School</td>\n        <td>97.8%</td>\n    </tr>\n    <tr>\n        <td>Edgar Allan Poe Elementary Classical School</td>\n        <td>97.6%</td>\n    </tr>\n    <tr>\n        <td>Orozco Fine Arts &amp; Sciences Elementary School</td>\n        <td>97.6%</td>\n    </tr>\n    <tr>\n        <td>Rachel Carson Elementary School</td>\n        <td>97.6%</td>\n    </tr>\n    <tr>\n        <td>Annie Keller Elementary Gifted Magnet School</td>\n        <td>97.5%</td>\n    </tr>\n    <tr>\n        <td>Andrew Jackson Elementary Language Academy</td>\n        <td>97.4%</td>\n    </tr>\n    <tr>\n        <td>Lenart Elementary Regional Gifted Center</td>\n        <td>97.4%</td>\n    </tr>\n    <tr>\n        <td>Disney II Magnet School</td>\n        <td>97.3%</td>\n    </tr>\n    <tr>\n        <td>John H Vanderpoel Elementary Magnet School</td>\n        <td>97.2%</td>\n    </tr>\n</table>", 
                        "text/plain": "[('John Charles Haines Elementary School', '98.4%'),\n ('James Ward Elementary School', '97.8%'),\n ('Edgar Allan Poe Elementary Classical School', '97.6%'),\n ('Orozco Fine Arts & Sciences Elementary School', '97.6%'),\n ('Rachel Carson Elementary School', '97.6%'),\n ('Annie Keller Elementary Gifted Magnet School', '97.5%'),\n ('Andrew Jackson Elementary Language Academy', '97.4%'),\n ('Lenart Elementary Regional Gifted Center', '97.4%'),\n ('Disney II Magnet School', '97.3%'),\n ('John H Vanderpoel Elementary Magnet School', '97.2%')]"
                    }, 
                    "output_type": "execute_result"
                }
            ], 
            "source": "%sql SELECT \"Name_of_School\",\"Average_Student_Attendance\" FROM SCHOOLS ORDER BY \"Average_Student_Attendance\" DESC nulls last LIMIT 10"
        }, 
        {
            "execution_count": 45, 
            "cell_type": "code", 
            "metadata": {}, 
            "outputs": [
                {
                    "output_type": "stream", 
                    "name": "stdout", 
                    "text": " * ibm_db_sa://hpf03826:***@dashdb-txn-sbox-yp-dal09-04.services.dal.bluemix.net:50000/BLUDB\nDone.\n"
                }, 
                {
                    "execution_count": 45, 
                    "metadata": {}, 
                    "data": {
                        "text/html": "<table>\n    <tr>\n        <th>Name_of_School</th>\n        <th>Average_Student_Attendance</th>\n    </tr>\n    <tr>\n        <td>Richard T Crane Technical Preparatory High School</td>\n        <td>57.9%</td>\n    </tr>\n    <tr>\n        <td>Barbara Vick Early Childhood &amp; Family Center</td>\n        <td>60.9%</td>\n    </tr>\n    <tr>\n        <td>Dyett High School</td>\n        <td>62.5%</td>\n    </tr>\n    <tr>\n        <td>Wendell Phillips Academy High School</td>\n        <td>63.0%</td>\n    </tr>\n    <tr>\n        <td>Orr Academy High School</td>\n        <td>66.3%</td>\n    </tr>\n</table>", 
                        "text/plain": "[('Richard T Crane Technical Preparatory High School', '57.9%'),\n ('Barbara Vick Early Childhood & Family Center', '60.9%'),\n ('Dyett High School', '62.5%'),\n ('Wendell Phillips Academy High School', '63.0%'),\n ('Orr Academy High School', '66.3%')]"
                    }, 
                    "output_type": "execute_result"
                }
            ], 
            "source": "%sql SELECT \"Name_of_School\",\"Average_Student_Attendance\" FROM SCHOOLS ORDER BY \"Average_Student_Attendance\" nulls last LIMIT 5"
        }, 
        {
            "execution_count": 46, 
            "cell_type": "code", 
            "metadata": {}, 
            "outputs": [
                {
                    "output_type": "stream", 
                    "name": "stdout", 
                    "text": " * ibm_db_sa://hpf03826:***@dashdb-txn-sbox-yp-dal09-04.services.dal.bluemix.net:50000/BLUDB\nDone.\n"
                }, 
                {
                    "execution_count": 46, 
                    "metadata": {}, 
                    "data": {
                        "text/html": "<table>\n    <tr>\n        <th>Name_of_School</th>\n        <th>2</th>\n    </tr>\n    <tr>\n        <td>Richard T Crane Technical Preparatory High School</td>\n        <td>57.9</td>\n    </tr>\n    <tr>\n        <td>Barbara Vick Early Childhood &amp; Family Center</td>\n        <td>60.9</td>\n    </tr>\n    <tr>\n        <td>Dyett High School</td>\n        <td>62.5</td>\n    </tr>\n    <tr>\n        <td>Wendell Phillips Academy High School</td>\n        <td>63.0</td>\n    </tr>\n    <tr>\n        <td>Orr Academy High School</td>\n        <td>66.3</td>\n    </tr>\n</table>", 
                        "text/plain": "[('Richard T Crane Technical Preparatory High School', '57.9'),\n ('Barbara Vick Early Childhood & Family Center', '60.9'),\n ('Dyett High School', '62.5'),\n ('Wendell Phillips Academy High School', '63.0'),\n ('Orr Academy High School', '66.3')]"
                    }, 
                    "output_type": "execute_result"
                }
            ], 
            "source": "%sql SELECT \"Name_of_School\",REPLACE(\"Average_Student_Attendance\",'%','') FROM SCHOOLS ORDER BY \"Average_Student_Attendance\" nulls last LIMIT 5"
        }, 
        {
            "execution_count": 47, 
            "cell_type": "code", 
            "metadata": {}, 
            "outputs": [
                {
                    "output_type": "stream", 
                    "name": "stdout", 
                    "text": " * ibm_db_sa://hpf03826:***@dashdb-txn-sbox-yp-dal09-04.services.dal.bluemix.net:50000/BLUDB\nDone.\n"
                }, 
                {
                    "execution_count": 47, 
                    "metadata": {}, 
                    "data": {
                        "text/html": "<table>\n    <tr>\n        <th>Name_of_School</th>\n        <th>Average_Student_Attendance</th>\n    </tr>\n    <tr>\n        <td>Richard T Crane Technical Preparatory High School</td>\n        <td>57.9%</td>\n    </tr>\n    <tr>\n        <td>Barbara Vick Early Childhood &amp; Family Center</td>\n        <td>60.9%</td>\n    </tr>\n    <tr>\n        <td>Dyett High School</td>\n        <td>62.5%</td>\n    </tr>\n    <tr>\n        <td>Wendell Phillips Academy High School</td>\n        <td>63.0%</td>\n    </tr>\n    <tr>\n        <td>Orr Academy High School</td>\n        <td>66.3%</td>\n    </tr>\n    <tr>\n        <td>Manley Career Academy High School</td>\n        <td>66.8%</td>\n    </tr>\n    <tr>\n        <td>Chicago Vocational Career Academy High School</td>\n        <td>68.8%</td>\n    </tr>\n    <tr>\n        <td>Roberto Clemente Community Academy High School</td>\n        <td>69.6%</td>\n    </tr>\n</table>", 
                        "text/plain": "[('Richard T Crane Technical Preparatory High School', '57.9%'),\n ('Barbara Vick Early Childhood & Family Center', '60.9%'),\n ('Dyett High School', '62.5%'),\n ('Wendell Phillips Academy High School', '63.0%'),\n ('Orr Academy High School', '66.3%'),\n ('Manley Career Academy High School', '66.8%'),\n ('Chicago Vocational Career Academy High School', '68.8%'),\n ('Roberto Clemente Community Academy High School', '69.6%')]"
                    }, 
                    "output_type": "execute_result"
                }
            ], 
            "source": "%sql SELECT \"Name_of_School\",\"Average_Student_Attendance\" FROM SCHOOLS WHERE \"Average_Student_Attendance\"<'70%' ORDER BY \"Average_Student_Attendance\";"
        }, 
        {
            "execution_count": 48, 
            "cell_type": "code", 
            "metadata": {}, 
            "outputs": [
                {
                    "output_type": "stream", 
                    "name": "stdout", 
                    "text": " * ibm_db_sa://hpf03826:***@dashdb-txn-sbox-yp-dal09-04.services.dal.bluemix.net:50000/BLUDB\nDone.\n"
                }, 
                {
                    "execution_count": 48, 
                    "metadata": {}, 
                    "data": {
                        "text/html": "<table>\n    <tr>\n        <th>Community_Area_Name</th>\n        <th>total_enrollment</th>\n    </tr>\n    <tr>\n        <td>ALBANY PARK</td>\n        <td>6864</td>\n    </tr>\n    <tr>\n        <td>ARCHER HEIGHTS</td>\n        <td>4823</td>\n    </tr>\n    <tr>\n        <td>ARMOUR SQUARE</td>\n        <td>1458</td>\n    </tr>\n    <tr>\n        <td>ASHBURN</td>\n        <td>6483</td>\n    </tr>\n    <tr>\n        <td>AUBURN GRESHAM</td>\n        <td>4175</td>\n    </tr>\n    <tr>\n        <td>AUSTIN</td>\n        <td>10933</td>\n    </tr>\n    <tr>\n        <td>AVALON PARK</td>\n        <td>1522</td>\n    </tr>\n    <tr>\n        <td>AVONDALE</td>\n        <td>3640</td>\n    </tr>\n    <tr>\n        <td>BELMONT CRAGIN</td>\n        <td>14386</td>\n    </tr>\n    <tr>\n        <td>BEVERLY</td>\n        <td>1636</td>\n    </tr>\n    <tr>\n        <td>BRIDGEPORT</td>\n        <td>3167</td>\n    </tr>\n    <tr>\n        <td>BRIGHTON PARK</td>\n        <td>9647</td>\n    </tr>\n    <tr>\n        <td>BURNSIDE</td>\n        <td>549</td>\n    </tr>\n    <tr>\n        <td>CALUMET HEIGHTS</td>\n        <td>1568</td>\n    </tr>\n    <tr>\n        <td>CHATHAM</td>\n        <td>5042</td>\n    </tr>\n    <tr>\n        <td>CHICAGO LAWN</td>\n        <td>7086</td>\n    </tr>\n    <tr>\n        <td>CLEARING</td>\n        <td>2085</td>\n    </tr>\n    <tr>\n        <td>DOUGLAS</td>\n        <td>4670</td>\n    </tr>\n    <tr>\n        <td>DUNNING</td>\n        <td>4568</td>\n    </tr>\n    <tr>\n        <td>EAST GARFIELD PARK</td>\n        <td>5337</td>\n    </tr>\n    <tr>\n        <td>EAST SIDE</td>\n        <td>5305</td>\n    </tr>\n    <tr>\n        <td>EDGEWATER</td>\n        <td>4600</td>\n    </tr>\n    <tr>\n        <td>EDISON PARK</td>\n        <td>910</td>\n    </tr>\n    <tr>\n        <td>ENGLEWOOD</td>\n        <td>6832</td>\n    </tr>\n    <tr>\n        <td>FOREST GLEN</td>\n        <td>1431</td>\n    </tr>\n    <tr>\n        <td>FULLER PARK</td>\n        <td>531</td>\n    </tr>\n    <tr>\n        <td>GAGE PARK</td>\n        <td>9915</td>\n    </tr>\n    <tr>\n        <td>GARFIELD RIDGE</td>\n        <td>4552</td>\n    </tr>\n    <tr>\n        <td>GRAND BOULEVARD</td>\n        <td>2809</td>\n    </tr>\n    <tr>\n        <td>GREATER GRAND CROSSING</td>\n        <td>4051</td>\n    </tr>\n    <tr>\n        <td>HEGEWISCH</td>\n        <td>963</td>\n    </tr>\n    <tr>\n        <td>HERMOSA</td>\n        <td>3975</td>\n    </tr>\n    <tr>\n        <td>HUMBOLDT PARK</td>\n        <td>8620</td>\n    </tr>\n    <tr>\n        <td>HYDE PARK</td>\n        <td>1930</td>\n    </tr>\n    <tr>\n        <td>IRVING PARK</td>\n        <td>7764</td>\n    </tr>\n    <tr>\n        <td>JEFFERSON PARK</td>\n        <td>1755</td>\n    </tr>\n    <tr>\n        <td>KENWOOD</td>\n        <td>4287</td>\n    </tr>\n    <tr>\n        <td>LAKE VIEW</td>\n        <td>7055</td>\n    </tr>\n    <tr>\n        <td>LINCOLN PARK</td>\n        <td>5615</td>\n    </tr>\n    <tr>\n        <td>LINCOLN SQUARE</td>\n        <td>4132</td>\n    </tr>\n    <tr>\n        <td>LOGAN SQUARE</td>\n        <td>7351</td>\n    </tr>\n    <tr>\n        <td>LOOP</td>\n        <td>871</td>\n    </tr>\n    <tr>\n        <td>LOWER WEST SIDE</td>\n        <td>7257</td>\n    </tr>\n    <tr>\n        <td>MCKINLEY PARK</td>\n        <td>1552</td>\n    </tr>\n    <tr>\n        <td>MONTCLARE</td>\n        <td>1317</td>\n    </tr>\n    <tr>\n        <td>MORGAN PARK</td>\n        <td>3271</td>\n    </tr>\n    <tr>\n        <td>MOUNT GREENWOOD</td>\n        <td>2091</td>\n    </tr>\n    <tr>\n        <td>NEAR NORTH SIDE</td>\n        <td>3362</td>\n    </tr>\n    <tr>\n        <td>NEAR SOUTH SIDE</td>\n        <td>1378</td>\n    </tr>\n    <tr>\n        <td>NEAR WEST SIDE</td>\n        <td>7975</td>\n    </tr>\n    <tr>\n        <td>NEW CITY</td>\n        <td>7922</td>\n    </tr>\n    <tr>\n        <td>NORTH CENTER</td>\n        <td>7541</td>\n    </tr>\n    <tr>\n        <td>NORTH LAWNDALE</td>\n        <td>5146</td>\n    </tr>\n    <tr>\n        <td>NORTH PARK</td>\n        <td>4210</td>\n    </tr>\n    <tr>\n        <td>NORWOOD PARK</td>\n        <td>6469</td>\n    </tr>\n    <tr>\n        <td>OAKLAND</td>\n        <td>140</td>\n    </tr>\n    <tr>\n        <td>OHARE</td>\n        <td>786</td>\n    </tr>\n    <tr>\n        <td>PORTAGE PARK</td>\n        <td>6954</td>\n    </tr>\n    <tr>\n        <td>PULLMAN</td>\n        <td>1620</td>\n    </tr>\n    <tr>\n        <td>RIVERDALE</td>\n        <td>1547</td>\n    </tr>\n    <tr>\n        <td>ROGERS PARK</td>\n        <td>4068</td>\n    </tr>\n    <tr>\n        <td>ROSELAND</td>\n        <td>7020</td>\n    </tr>\n    <tr>\n        <td>SOUTH CHICAGO</td>\n        <td>4043</td>\n    </tr>\n    <tr>\n        <td>SOUTH DEERING</td>\n        <td>1859</td>\n    </tr>\n    <tr>\n        <td>SOUTH LAWNDALE</td>\n        <td>14793</td>\n    </tr>\n    <tr>\n        <td>SOUTH SHORE</td>\n        <td>4543</td>\n    </tr>\n    <tr>\n        <td>UPTOWN</td>\n        <td>4388</td>\n    </tr>\n    <tr>\n        <td>WASHINGTON HEIGHTS</td>\n        <td>4006</td>\n    </tr>\n    <tr>\n        <td>WASHINGTON PARK</td>\n        <td>2648</td>\n    </tr>\n    <tr>\n        <td>WEST ELSDON</td>\n        <td>3700</td>\n    </tr>\n    <tr>\n        <td>WEST ENGLEWOOD</td>\n        <td>5946</td>\n    </tr>\n    <tr>\n        <td>WEST GARFIELD PARK</td>\n        <td>2622</td>\n    </tr>\n    <tr>\n        <td>WEST LAWN</td>\n        <td>4207</td>\n    </tr>\n    <tr>\n        <td>WEST PULLMAN</td>\n        <td>3240</td>\n    </tr>\n    <tr>\n        <td>WEST RIDGE</td>\n        <td>8197</td>\n    </tr>\n    <tr>\n        <td>WEST TOWN</td>\n        <td>9429</td>\n    </tr>\n    <tr>\n        <td>WOODLAWN</td>\n        <td>4206</td>\n    </tr>\n</table>", 
                        "text/plain": "[('ALBANY PARK', 6864),\n ('ARCHER HEIGHTS', 4823),\n ('ARMOUR SQUARE', 1458),\n ('ASHBURN', 6483),\n ('AUBURN GRESHAM', 4175),\n ('AUSTIN', 10933),\n ('AVALON PARK', 1522),\n ('AVONDALE', 3640),\n ('BELMONT CRAGIN', 14386),\n ('BEVERLY', 1636),\n ('BRIDGEPORT', 3167),\n ('BRIGHTON PARK', 9647),\n ('BURNSIDE', 549),\n ('CALUMET HEIGHTS', 1568),\n ('CHATHAM', 5042),\n ('CHICAGO LAWN', 7086),\n ('CLEARING', 2085),\n ('DOUGLAS', 4670),\n ('DUNNING', 4568),\n ('EAST GARFIELD PARK', 5337),\n ('EAST SIDE', 5305),\n ('EDGEWATER', 4600),\n ('EDISON PARK', 910),\n ('ENGLEWOOD', 6832),\n ('FOREST GLEN', 1431),\n ('FULLER PARK', 531),\n ('GAGE PARK', 9915),\n ('GARFIELD RIDGE', 4552),\n ('GRAND BOULEVARD', 2809),\n ('GREATER GRAND CROSSING', 4051),\n ('HEGEWISCH', 963),\n ('HERMOSA', 3975),\n ('HUMBOLDT PARK', 8620),\n ('HYDE PARK', 1930),\n ('IRVING PARK', 7764),\n ('JEFFERSON PARK', 1755),\n ('KENWOOD', 4287),\n ('LAKE VIEW', 7055),\n ('LINCOLN PARK', 5615),\n ('LINCOLN SQUARE', 4132),\n ('LOGAN SQUARE', 7351),\n ('LOOP', 871),\n ('LOWER WEST SIDE', 7257),\n ('MCKINLEY PARK', 1552),\n ('MONTCLARE', 1317),\n ('MORGAN PARK', 3271),\n ('MOUNT GREENWOOD', 2091),\n ('NEAR NORTH SIDE', 3362),\n ('NEAR SOUTH SIDE', 1378),\n ('NEAR WEST SIDE', 7975),\n ('NEW CITY', 7922),\n ('NORTH CENTER', 7541),\n ('NORTH LAWNDALE', 5146),\n ('NORTH PARK', 4210),\n ('NORWOOD PARK', 6469),\n ('OAKLAND', 140),\n ('OHARE', 786),\n ('PORTAGE PARK', 6954),\n ('PULLMAN', 1620),\n ('RIVERDALE', 1547),\n ('ROGERS PARK', 4068),\n ('ROSELAND', 7020),\n ('SOUTH CHICAGO', 4043),\n ('SOUTH DEERING', 1859),\n ('SOUTH LAWNDALE', 14793),\n ('SOUTH SHORE', 4543),\n ('UPTOWN', 4388),\n ('WASHINGTON HEIGHTS', 4006),\n ('WASHINGTON PARK', 2648),\n ('WEST ELSDON', 3700),\n ('WEST ENGLEWOOD', 5946),\n ('WEST GARFIELD PARK', 2622),\n ('WEST LAWN', 4207),\n ('WEST PULLMAN', 3240),\n ('WEST RIDGE', 8197),\n ('WEST TOWN', 9429),\n ('WOODLAWN', 4206)]"
                    }, 
                    "output_type": "execute_result"
                }
            ], 
            "source": "%sql SELECT \"Community_Area_Name\", sum(\"College_Enrollment__number_of_students_\") Total_Enrollment FROM SCHOOLS GROUP BY \"Community_Area_Name\""
        }, 
        {
            "execution_count": 49, 
            "cell_type": "code", 
            "metadata": {}, 
            "outputs": [
                {
                    "output_type": "stream", 
                    "name": "stdout", 
                    "text": " * ibm_db_sa://hpf03826:***@dashdb-txn-sbox-yp-dal09-04.services.dal.bluemix.net:50000/BLUDB\nDone.\n"
                }, 
                {
                    "execution_count": 49, 
                    "metadata": {}, 
                    "data": {
                        "text/html": "<table>\n    <tr>\n        <th>Community_Area_Name</th>\n        <th>total_enrollment</th>\n    </tr>\n    <tr>\n        <td>OAKLAND</td>\n        <td>140</td>\n    </tr>\n    <tr>\n        <td>FULLER PARK</td>\n        <td>531</td>\n    </tr>\n    <tr>\n        <td>BURNSIDE</td>\n        <td>549</td>\n    </tr>\n    <tr>\n        <td>OHARE</td>\n        <td>786</td>\n    </tr>\n    <tr>\n        <td>LOOP</td>\n        <td>871</td>\n    </tr>\n</table>", 
                        "text/plain": "[('OAKLAND', 140),\n ('FULLER PARK', 531),\n ('BURNSIDE', 549),\n ('OHARE', 786),\n ('LOOP', 871)]"
                    }, 
                    "output_type": "execute_result"
                }
            ], 
            "source": "%sql SELECT \"Community_Area_Name\", sum(\"College_Enrollment__number_of_students_\") \\\nTotal_Enrollment FROM SCHOOLS GROUP BY \"Community_Area_Name\" \\\nORDER BY 2 ASC LIMIT 5"
        }, 
        {
            "execution_count": 50, 
            "cell_type": "code", 
            "metadata": {}, 
            "outputs": [
                {
                    "output_type": "stream", 
                    "name": "stdout", 
                    "text": " * ibm_db_sa://hpf03826:***@dashdb-txn-sbox-yp-dal09-04.services.dal.bluemix.net:50000/BLUDB\nDone.\n"
                }, 
                {
                    "execution_count": 50, 
                    "metadata": {}, 
                    "data": {
                        "text/html": "<table>\n    <tr>\n        <th>num_of_rows</th>\n    </tr>\n    <tr>\n        <td>78</td>\n    </tr>\n</table>", 
                        "text/plain": "[(Decimal('78'),)]"
                    }, 
                    "output_type": "execute_result"
                }
            ], 
            "source": "# Rows in Census Data (Socieconimic Indicators)\n%sql SELECT count(*) num_of_rows FROM CENSUS_DATA;"
        }, 
        {
            "execution_count": 51, 
            "cell_type": "code", 
            "metadata": {}, 
            "outputs": [
                {
                    "output_type": "stream", 
                    "name": "stdout", 
                    "text": " * ibm_db_sa://hpf03826:***@dashdb-txn-sbox-yp-dal09-04.services.dal.bluemix.net:50000/BLUDB\nDone.\n"
                }, 
                {
                    "execution_count": 51, 
                    "metadata": {}, 
                    "data": {
                        "text/html": "<table>\n    <tr>\n        <th>num_of_rows</th>\n    </tr>\n    <tr>\n        <td>566</td>\n    </tr>\n</table>", 
                        "text/plain": "[(Decimal('566'),)]"
                    }, 
                    "output_type": "execute_result"
                }
            ], 
            "source": "# Rows in Public Schools\n%sql SELECT count(*) num_of_rows FROM schools;"
        }, 
        {
            "execution_count": 52, 
            "cell_type": "code", 
            "metadata": {}, 
            "outputs": [
                {
                    "output_type": "stream", 
                    "name": "stdout", 
                    "text": " * ibm_db_sa://hpf03826:***@dashdb-txn-sbox-yp-dal09-04.services.dal.bluemix.net:50000/BLUDB\nDone.\n"
                }, 
                {
                    "execution_count": 52, 
                    "metadata": {}, 
                    "data": {
                        "text/html": "<table>\n    <tr>\n        <th>num_of_rows</th>\n    </tr>\n    <tr>\n        <td>533</td>\n    </tr>\n</table>", 
                        "text/plain": "[(Decimal('533'),)]"
                    }, 
                    "output_type": "execute_result"
                }
            ], 
            "source": "# Rows in Crime Data\n%sql SELECT count(*) num_of_rows FROM chicago_crime_data;"
        }, 
        {
            "execution_count": 53, 
            "cell_type": "code", 
            "metadata": {}, 
            "outputs": [
                {
                    "output_type": "stream", 
                    "name": "stdout", 
                    "text": " * ibm_db_sa://hpf03826:***@dashdb-txn-sbox-yp-dal09-04.services.dal.bluemix.net:50000/BLUDB\nDone.\n"
                }, 
                {
                    "execution_count": 53, 
                    "metadata": {}, 
                    "data": {
                        "text/html": "<table>\n    <tr>\n        <th>Community_Area_Name</th>\n        <th>avg_enrollment</th>\n    </tr>\n    <tr>\n        <td>ALBANY PARK</td>\n        <td>858.000000</td>\n    </tr>\n    <tr>\n        <td>ARCHER HEIGHTS</td>\n        <td>2411.500000</td>\n    </tr>\n    <tr>\n        <td>ARMOUR SQUARE</td>\n        <td>486.000000</td>\n    </tr>\n    <tr>\n        <td>ASHBURN</td>\n        <td>810.375000</td>\n    </tr>\n    <tr>\n        <td>AUBURN GRESHAM</td>\n        <td>417.500000</td>\n    </tr>\n    <tr>\n        <td>AUSTIN</td>\n        <td>475.347826</td>\n    </tr>\n    <tr>\n        <td>AVALON PARK</td>\n        <td>507.333333</td>\n    </tr>\n    <tr>\n        <td>AVONDALE</td>\n        <td>910.000000</td>\n    </tr>\n    <tr>\n        <td>BELMONT CRAGIN</td>\n        <td>1198.833333</td>\n    </tr>\n    <tr>\n        <td>BEVERLY</td>\n        <td>409.000000</td>\n    </tr>\n    <tr>\n        <td>BRIDGEPORT</td>\n        <td>633.400000</td>\n    </tr>\n    <tr>\n        <td>BRIGHTON PARK</td>\n        <td>1205.875000</td>\n    </tr>\n    <tr>\n        <td>BURNSIDE</td>\n        <td>549.000000</td>\n    </tr>\n    <tr>\n        <td>CALUMET HEIGHTS</td>\n        <td>261.333333</td>\n    </tr>\n    <tr>\n        <td>CHATHAM</td>\n        <td>560.222222</td>\n    </tr>\n    <tr>\n        <td>CHICAGO LAWN</td>\n        <td>1012.285714</td>\n    </tr>\n    <tr>\n        <td>CLEARING</td>\n        <td>521.250000</td>\n    </tr>\n    <tr>\n        <td>DOUGLAS</td>\n        <td>424.545454</td>\n    </tr>\n    <tr>\n        <td>DUNNING</td>\n        <td>761.333333</td>\n    </tr>\n    <tr>\n        <td>EAST GARFIELD PARK</td>\n        <td>410.538461</td>\n    </tr>\n    <tr>\n        <td>EAST SIDE</td>\n        <td>1061.000000</td>\n    </tr>\n    <tr>\n        <td>EDGEWATER</td>\n        <td>766.666666</td>\n    </tr>\n    <tr>\n        <td>EDISON PARK</td>\n        <td>455.000000</td>\n    </tr>\n    <tr>\n        <td>ENGLEWOOD</td>\n        <td>401.882352</td>\n    </tr>\n    <tr>\n        <td>FOREST GLEN</td>\n        <td>477.000000</td>\n    </tr>\n    <tr>\n        <td>FULLER PARK</td>\n        <td>265.500000</td>\n    </tr>\n    <tr>\n        <td>GAGE PARK</td>\n        <td>991.500000</td>\n    </tr>\n    <tr>\n        <td>GARFIELD RIDGE</td>\n        <td>910.400000</td>\n    </tr>\n    <tr>\n        <td>GRAND BOULEVARD</td>\n        <td>351.125000</td>\n    </tr>\n    <tr>\n        <td>GREATER GRAND CROSSING</td>\n        <td>405.100000</td>\n    </tr>\n    <tr>\n        <td>HEGEWISCH</td>\n        <td>481.500000</td>\n    </tr>\n    <tr>\n        <td>HERMOSA</td>\n        <td>993.750000</td>\n    </tr>\n    <tr>\n        <td>HUMBOLDT PARK</td>\n        <td>663.076923</td>\n    </tr>\n    <tr>\n        <td>HYDE PARK</td>\n        <td>482.500000</td>\n    </tr>\n    <tr>\n        <td>IRVING PARK</td>\n        <td>862.666666</td>\n    </tr>\n    <tr>\n        <td>JEFFERSON PARK</td>\n        <td>877.500000</td>\n    </tr>\n    <tr>\n        <td>KENWOOD</td>\n        <td>612.428571</td>\n    </tr>\n    <tr>\n        <td>LAKE VIEW</td>\n        <td>641.363636</td>\n    </tr>\n    <tr>\n        <td>LINCOLN PARK</td>\n        <td>802.142857</td>\n    </tr>\n    <tr>\n        <td>LINCOLN SQUARE</td>\n        <td>826.400000</td>\n    </tr>\n    <tr>\n        <td>LOGAN SQUARE</td>\n        <td>668.272727</td>\n    </tr>\n    <tr>\n        <td>LOOP</td>\n        <td>871.000000</td>\n    </tr>\n    <tr>\n        <td>LOWER WEST SIDE</td>\n        <td>659.727272</td>\n    </tr>\n    <tr>\n        <td>MCKINLEY PARK</td>\n        <td>388.000000</td>\n    </tr>\n    <tr>\n        <td>MONTCLARE</td>\n        <td>1317.000000</td>\n    </tr>\n    <tr>\n        <td>MORGAN PARK</td>\n        <td>654.200000</td>\n    </tr>\n    <tr>\n        <td>MOUNT GREENWOOD</td>\n        <td>522.750000</td>\n    </tr>\n    <tr>\n        <td>NEAR NORTH SIDE</td>\n        <td>480.285714</td>\n    </tr>\n    <tr>\n        <td>NEAR SOUTH SIDE</td>\n        <td>459.333333</td>\n    </tr>\n    <tr>\n        <td>NEAR WEST SIDE</td>\n        <td>498.437500</td>\n    </tr>\n    <tr>\n        <td>NEW CITY</td>\n        <td>609.384615</td>\n    </tr>\n    <tr>\n        <td>NORTH CENTER</td>\n        <td>1077.285714</td>\n    </tr>\n    <tr>\n        <td>NORTH LAWNDALE</td>\n        <td>321.625000</td>\n    </tr>\n    <tr>\n        <td>NORTH PARK</td>\n        <td>842.000000</td>\n    </tr>\n    <tr>\n        <td>NORWOOD PARK</td>\n        <td>808.625000</td>\n    </tr>\n    <tr>\n        <td>OAKLAND</td>\n        <td>140.000000</td>\n    </tr>\n    <tr>\n        <td>OHARE</td>\n        <td>786.000000</td>\n    </tr>\n    <tr>\n        <td>PORTAGE PARK</td>\n        <td>993.428571</td>\n    </tr>\n    <tr>\n        <td>PULLMAN</td>\n        <td>324.000000</td>\n    </tr>\n    <tr>\n        <td>RIVERDALE</td>\n        <td>386.750000</td>\n    </tr>\n    <tr>\n        <td>ROGERS PARK</td>\n        <td>678.000000</td>\n    </tr>\n    <tr>\n        <td>ROSELAND</td>\n        <td>540.000000</td>\n    </tr>\n    <tr>\n        <td>SOUTH CHICAGO</td>\n        <td>577.571428</td>\n    </tr>\n    <tr>\n        <td>SOUTH DEERING</td>\n        <td>464.750000</td>\n    </tr>\n    <tr>\n        <td>SOUTH LAWNDALE</td>\n        <td>672.409090</td>\n    </tr>\n    <tr>\n        <td>SOUTH SHORE</td>\n        <td>504.777777</td>\n    </tr>\n    <tr>\n        <td>UPTOWN</td>\n        <td>626.857142</td>\n    </tr>\n    <tr>\n        <td>WASHINGTON HEIGHTS</td>\n        <td>445.111111</td>\n    </tr>\n    <tr>\n        <td>WASHINGTON PARK</td>\n        <td>529.600000</td>\n    </tr>\n    <tr>\n        <td>WEST ELSDON</td>\n        <td>1233.333333</td>\n    </tr>\n    <tr>\n        <td>WEST ENGLEWOOD</td>\n        <td>457.384615</td>\n    </tr>\n    <tr>\n        <td>WEST GARFIELD PARK</td>\n        <td>327.750000</td>\n    </tr>\n    <tr>\n        <td>WEST LAWN</td>\n        <td>1051.750000</td>\n    </tr>\n    <tr>\n        <td>WEST PULLMAN</td>\n        <td>324.000000</td>\n    </tr>\n    <tr>\n        <td>WEST RIDGE</td>\n        <td>910.777777</td>\n    </tr>\n    <tr>\n        <td>WEST TOWN</td>\n        <td>471.450000</td>\n    </tr>\n    <tr>\n        <td>WOODLAWN</td>\n        <td>525.750000</td>\n    </tr>\n</table>", 
                        "text/plain": "[('ALBANY PARK', Decimal('858.000000')),\n ('ARCHER HEIGHTS', Decimal('2411.500000')),\n ('ARMOUR SQUARE', Decimal('486.000000')),\n ('ASHBURN', Decimal('810.375000')),\n ('AUBURN GRESHAM', Decimal('417.500000')),\n ('AUSTIN', Decimal('475.347826')),\n ('AVALON PARK', Decimal('507.333333')),\n ('AVONDALE', Decimal('910.000000')),\n ('BELMONT CRAGIN', Decimal('1198.833333')),\n ('BEVERLY', Decimal('409.000000')),\n ('BRIDGEPORT', Decimal('633.400000')),\n ('BRIGHTON PARK', Decimal('1205.875000')),\n ('BURNSIDE', Decimal('549.000000')),\n ('CALUMET HEIGHTS', Decimal('261.333333')),\n ('CHATHAM', Decimal('560.222222')),\n ('CHICAGO LAWN', Decimal('1012.285714')),\n ('CLEARING', Decimal('521.250000')),\n ('DOUGLAS', Decimal('424.545454')),\n ('DUNNING', Decimal('761.333333')),\n ('EAST GARFIELD PARK', Decimal('410.538461')),\n ('EAST SIDE', Decimal('1061.000000')),\n ('EDGEWATER', Decimal('766.666666')),\n ('EDISON PARK', Decimal('455.000000')),\n ('ENGLEWOOD', Decimal('401.882352')),\n ('FOREST GLEN', Decimal('477.000000')),\n ('FULLER PARK', Decimal('265.500000')),\n ('GAGE PARK', Decimal('991.500000')),\n ('GARFIELD RIDGE', Decimal('910.400000')),\n ('GRAND BOULEVARD', Decimal('351.125000')),\n ('GREATER GRAND CROSSING', Decimal('405.100000')),\n ('HEGEWISCH', Decimal('481.500000')),\n ('HERMOSA', Decimal('993.750000')),\n ('HUMBOLDT PARK', Decimal('663.076923')),\n ('HYDE PARK', Decimal('482.500000')),\n ('IRVING PARK', Decimal('862.666666')),\n ('JEFFERSON PARK', Decimal('877.500000')),\n ('KENWOOD', Decimal('612.428571')),\n ('LAKE VIEW', Decimal('641.363636')),\n ('LINCOLN PARK', Decimal('802.142857')),\n ('LINCOLN SQUARE', Decimal('826.400000')),\n ('LOGAN SQUARE', Decimal('668.272727')),\n ('LOOP', Decimal('871.000000')),\n ('LOWER WEST SIDE', Decimal('659.727272')),\n ('MCKINLEY PARK', Decimal('388.000000')),\n ('MONTCLARE', Decimal('1317.000000')),\n ('MORGAN PARK', Decimal('654.200000')),\n ('MOUNT GREENWOOD', Decimal('522.750000')),\n ('NEAR NORTH SIDE', Decimal('480.285714')),\n ('NEAR SOUTH SIDE', Decimal('459.333333')),\n ('NEAR WEST SIDE', Decimal('498.437500')),\n ('NEW CITY', Decimal('609.384615')),\n ('NORTH CENTER', Decimal('1077.285714')),\n ('NORTH LAWNDALE', Decimal('321.625000')),\n ('NORTH PARK', Decimal('842.000000')),\n ('NORWOOD PARK', Decimal('808.625000')),\n ('OAKLAND', Decimal('140.000000')),\n ('OHARE', Decimal('786.000000')),\n ('PORTAGE PARK', Decimal('993.428571')),\n ('PULLMAN', Decimal('324.000000')),\n ('RIVERDALE', Decimal('386.750000')),\n ('ROGERS PARK', Decimal('678.000000')),\n ('ROSELAND', Decimal('540.000000')),\n ('SOUTH CHICAGO', Decimal('577.571428')),\n ('SOUTH DEERING', Decimal('464.750000')),\n ('SOUTH LAWNDALE', Decimal('672.409090')),\n ('SOUTH SHORE', Decimal('504.777777')),\n ('UPTOWN', Decimal('626.857142')),\n ('WASHINGTON HEIGHTS', Decimal('445.111111')),\n ('WASHINGTON PARK', Decimal('529.600000')),\n ('WEST ELSDON', Decimal('1233.333333')),\n ('WEST ENGLEWOOD', Decimal('457.384615')),\n ('WEST GARFIELD PARK', Decimal('327.750000')),\n ('WEST LAWN', Decimal('1051.750000')),\n ('WEST PULLMAN', Decimal('324.000000')),\n ('WEST RIDGE', Decimal('910.777777')),\n ('WEST TOWN', Decimal('471.450000')),\n ('WOODLAWN', Decimal('525.750000'))]"
                    }, 
                    "output_type": "execute_result"
                }
            ], 
            "source": "# Find average college enrollments by community area\n%sql SELECT \"Community_Area_Name\", avg(\"College_Enrollment__number_of_students_\") Avg_Enrollment \\\nFROM SCHOOLS GROUP BY \"Community_Area_Name\";"
        }, 
        {
            "execution_count": 54, 
            "cell_type": "code", 
            "metadata": {}, 
            "outputs": [
                {
                    "output_type": "stream", 
                    "name": "stdout", 
                    "text": " * ibm_db_sa://hpf03826:***@dashdb-txn-sbox-yp-dal09-04.services.dal.bluemix.net:50000/BLUDB\nDone.\n"
                }, 
                {
                    "execution_count": 54, 
                    "metadata": {}, 
                    "data": {
                        "text/html": "<table>\n    <tr>\n        <th>total_health_certified_school</th>\n    </tr>\n    <tr>\n        <td>16</td>\n    </tr>\n</table>", 
                        "text/plain": "[(Decimal('16'),)]"
                    }, 
                    "output_type": "execute_result"
                }
            ], 
            "source": "# Find the number of schools that are healthy school certified\n%sql SELECT count(*) Total_health_certified_school FROM schools \\\nWhere \"Healthy_Schools_Certified_\" = 'Yes';"
        }, 
        {
            "execution_count": 55, 
            "cell_type": "code", 
            "metadata": {}, 
            "outputs": [
                {
                    "output_type": "stream", 
                    "name": "stdout", 
                    "text": " * ibm_db_sa://hpf03826:***@dashdb-txn-sbox-yp-dal09-04.services.dal.bluemix.net:50000/BLUDB\nDone.\n"
                }, 
                {
                    "execution_count": 55, 
                    "metadata": {}, 
                    "data": {
                        "text/html": "<table>\n    <tr>\n        <th>total_gas_station_crime</th>\n    </tr>\n    <tr>\n        <td>6</td>\n    </tr>\n</table>", 
                        "text/plain": "[(Decimal('6'),)]"
                    }, 
                    "output_type": "execute_result"
                }
            ], 
            "source": "# How many observations have a Location Description value of GAS STATION\n%sql SELECT count(*) Total_gas_station_crime FROM chicago_crime_data \\\nWhere \"Location_Description\" = 'GAS STATION';"
        }, 
        {
            "execution_count": 56, 
            "cell_type": "code", 
            "metadata": {}, 
            "outputs": [
                {
                    "output_type": "stream", 
                    "name": "stdout", 
                    "text": " * ibm_db_sa://hpf03826:***@dashdb-txn-sbox-yp-dal09-04.services.dal.bluemix.net:50000/BLUDB\nDone.\n"
                }, 
                {
                    "execution_count": 56, 
                    "metadata": {}, 
                    "data": {
                        "text/html": "<table>\n    <tr>\n        <th>Community_Area_Name</th>\n        <th>total_schools</th>\n    </tr>\n    <tr>\n        <td>AUSTIN</td>\n        <td>23</td>\n    </tr>\n    <tr>\n        <td>SOUTH LAWNDALE</td>\n        <td>22</td>\n    </tr>\n    <tr>\n        <td>WEST TOWN</td>\n        <td>20</td>\n    </tr>\n    <tr>\n        <td>ENGLEWOOD</td>\n        <td>17</td>\n    </tr>\n    <tr>\n        <td>NEAR WEST SIDE</td>\n        <td>16</td>\n    </tr>\n    <tr>\n        <td>NORTH LAWNDALE</td>\n        <td>16</td>\n    </tr>\n    <tr>\n        <td>EAST GARFIELD PARK</td>\n        <td>13</td>\n    </tr>\n    <tr>\n        <td>HUMBOLDT PARK</td>\n        <td>13</td>\n    </tr>\n    <tr>\n        <td>NEW CITY</td>\n        <td>13</td>\n    </tr>\n    <tr>\n        <td>ROSELAND</td>\n        <td>13</td>\n    </tr>\n</table>", 
                        "text/plain": "[('AUSTIN', Decimal('23')),\n ('SOUTH LAWNDALE', Decimal('22')),\n ('WEST TOWN', Decimal('20')),\n ('ENGLEWOOD', Decimal('17')),\n ('NEAR WEST SIDE', Decimal('16')),\n ('NORTH LAWNDALE', Decimal('16')),\n ('EAST GARFIELD PARK', Decimal('13')),\n ('HUMBOLDT PARK', Decimal('13')),\n ('NEW CITY', Decimal('13')),\n ('ROSELAND', Decimal('13'))]"
                    }, 
                    "output_type": "execute_result"
                }
            ], 
            "source": "#Retrieve a list of the top 10 community areas which have most number of schools and sorted in descending order\n%sql SELECT  \"Community_Area_Name\", count(\"Name_of_School\") Total_schools \\\nFROM schools GROUP BY \"Community_Area_Name\" \\\nORDER BY 2 DESC \\\nnulls last LIMIT 10;"
        }, 
        {
            "execution_count": 57, 
            "cell_type": "code", 
            "metadata": {}, 
            "outputs": [
                {
                    "output_type": "stream", 
                    "name": "stdout", 
                    "text": " * ibm_db_sa://hpf03826:***@dashdb-txn-sbox-yp-dal09-04.services.dal.bluemix.net:50000/BLUDB\nDone.\n"
                }, 
                {
                    "execution_count": 57, 
                    "metadata": {}, 
                    "data": {
                        "text/html": "<table>\n    <tr>\n        <th>num_of_motovehicle_theft_crime</th>\n    </tr>\n    <tr>\n        <td>24</td>\n    </tr>\n</table>", 
                        "text/plain": "[(Decimal('24'),)]"
                    }, 
                    "output_type": "execute_result"
                }
            ], 
            "source": "# How many observations have value MOTOR VEHICLE THEFT in the Primary Type variable\n%sql SELECT count(*) num_of_motovehicle_theft_crime FROM chicago_crime_data \\\nWhere \"Primary_Type\" = 'MOTOR VEHICLE THEFT';"
        }, 
        {
            "execution_count": 58, 
            "cell_type": "code", 
            "metadata": {}, 
            "outputs": [
                {
                    "output_type": "stream", 
                    "name": "stdout", 
                    "text": " * ibm_db_sa://hpf03826:***@dashdb-txn-sbox-yp-dal09-04.services.dal.bluemix.net:50000/BLUDB\nDone.\n"
                }, 
                {
                    "execution_count": 58, 
                    "metadata": {}, 
                    "data": {
                        "text/html": "<table>\n    <tr>\n        <th>Community_Area_Name</th>\n        <th>Average_Student_Attendance</th>\n    </tr>\n    <tr>\n        <td>SOUTH LAWNDALE</td>\n        <td>86.1%</td>\n    </tr>\n</table>", 
                        "text/plain": "[('SOUTH LAWNDALE', '86.1%')]"
                    }, 
                    "output_type": "execute_result"
                }
            ], 
            "source": "# Find the minimum \u201cAverage Student Attendance\u201d for community are where hardship is 96. Hint: use INNER JOIN\n%sql SELECT S.\"Community_Area_Name\", S.\"Average_Student_Attendance\" \\\nFROM schools AS S \\\nINNER JOIN CENSUS_DATA AS C ON UPPER(C.\"COMMUNITY_AREA_NAME\") = S.\"Community_Area_Name\"  \\\nWHERE C.\"HARDSHIP_INDEX\"=96.0 \\\nORDER BY 2 \\\nLIMIT 1\n\n"
        }, 
        {
            "execution_count": null, 
            "cell_type": "code", 
            "metadata": {}, 
            "outputs": [], 
            "source": ""
        }, 
        {
            "execution_count": null, 
            "cell_type": "code", 
            "metadata": {}, 
            "outputs": [], 
            "source": ""
        }, 
        {
            "execution_count": null, 
            "cell_type": "code", 
            "metadata": {}, 
            "outputs": [], 
            "source": ""
        }, 
        {
            "execution_count": null, 
            "cell_type": "code", 
            "metadata": {}, 
            "outputs": [], 
            "source": ""
        }
    ], 
    "metadata": {
        "kernelspec": {
            "display_name": "Python 3.5", 
            "name": "python3", 
            "language": "python"
        }, 
        "language_info": {
            "mimetype": "text/x-python", 
            "nbconvert_exporter": "python", 
            "version": "3.5.5", 
            "name": "python", 
            "file_extension": ".py", 
            "pygments_lexer": "ipython3", 
            "codemirror_mode": {
                "version": 3, 
                "name": "ipython"
            }
        }
    }, 
    "nbformat": 4
}
